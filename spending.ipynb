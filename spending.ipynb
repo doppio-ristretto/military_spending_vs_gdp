{
 "metadata": {
  "language_info": {
   "codemirror_mode": {
    "name": "ipython",
    "version": 3
   },
   "file_extension": ".py",
   "mimetype": "text/x-python",
   "name": "python",
   "nbconvert_exporter": "python",
   "pygments_lexer": "ipython3",
   "version": "3.7.6-final"
  },
  "orig_nbformat": 2,
  "kernelspec": {
   "name": "python3",
   "display_name": "Python 3"
  }
 },
 "nbformat": 4,
 "nbformat_minor": 2,
 "cells": [
  {
   "cell_type": "code",
   "execution_count": 1,
   "metadata": {},
   "outputs": [],
   "source": [
    "import pandas as pd"
   ]
  },
  {
   "cell_type": "code",
   "execution_count": 2,
   "metadata": {},
   "outputs": [],
   "source": [
    "spendingfile = pd.read_csv('Military Expenditure.csv')"
   ]
  },
  {
   "cell_type": "code",
   "execution_count": 3,
   "metadata": {},
   "outputs": [],
   "source": [
    "spending_df = pd.DataFrame(spendingfile)"
   ]
  },
  {
   "cell_type": "code",
   "execution_count": 4,
   "metadata": {},
   "outputs": [],
   "source": [
    "spending_clean1 = spending_df.drop(columns=['Code','Type','Indicator Name', '1960','1961','1962','1963','1964','1965','1966','1967','1968','1969','1970','1971','1972','1973','1974','1975','1976','1977','1978','1979','1980','1981','1982','1983','1984','1985','1986','1987','1988','1989'])"
   ]
  },
  {
   "cell_type": "code",
   "execution_count": 5,
   "metadata": {},
   "outputs": [],
   "source": [
    "rename=spending_clean1.rename(columns={'Name':'Country'})\n",
    "rename2=rename.set_index('Country')"
   ]
  },
  {
   "cell_type": "code",
   "execution_count": 7,
   "metadata": {},
   "outputs": [],
   "source": [
    "clean = rename2.dropna(how='all')"
   ]
  },
  {
   "cell_type": "code",
   "execution_count": 9,
   "metadata": {},
   "outputs": [
    {
     "output_type": "execute_result",
     "data": {
      "text/plain": "                              1990          1991          1992          1993  \\\nCountry                                                                        \nAfghanistan                    NaN           NaN           NaN           NaN   \nAngola                1.751153e+09  1.031248e+09  7.941388e+08  1.774398e+09   \nAlbania                        NaN           NaN  3.155966e+07  3.928984e+07   \nArab World            3.651229e+10  4.103510e+10  3.281075e+10  2.960635e+10   \nUnited Arab Emirates           NaN           NaN           NaN           NaN   \n...                            ...           ...           ...           ...   \nKosovo                         NaN           NaN           NaN           NaN   \nYemen, Rep.           8.070707e+08  1.028218e+09  1.306900e+09  1.535458e+09   \nSouth Africa          4.364458e+09  3.874415e+09  3.677406e+09  3.254313e+09   \nZambia                1.393240e+08  8.624731e+07  9.775628e+07  5.112829e+07   \nZimbabwe              4.163000e+08  3.760500e+08  2.963500e+08  2.498000e+08   \n\n                              1994          1995          1996          1997  \\\nCountry                                                                        \nAfghanistan                    NaN           NaN           NaN           NaN   \nAngola                5.949912e+08  2.338437e+08  1.597419e+08  4.567805e+08   \nAlbania               4.964950e+07  5.090752e+07  4.571336e+07  2.982549e+07   \nArab World            2.941337e+10  2.668432e+10  2.648612e+10  3.548406e+10   \nUnited Arab Emirates           NaN           NaN           NaN  3.335767e+09   \n...                            ...           ...           ...           ...   \nKosovo                         NaN           NaN           NaN           NaN   \nYemen, Rep.           2.353269e+09  8.058924e+08  4.160086e+08  3.970730e+08   \nSouth Africa          3.478582e+09  3.292447e+09  2.591787e+09  2.414138e+09   \nZambia                6.286947e+07  5.526554e+07  3.783591e+07  4.336250e+07   \nZimbabwe              2.479000e+08  2.629000e+08  2.916500e+08  3.114000e+08   \n\n                              1998          1999  ...          2009  \\\nCountry                                           ...                 \nAfghanistan                    NaN           NaN  ...  2.518695e+08   \nAngola                1.702783e+08  1.066589e+09  ...  3.311193e+09   \nAlbania               3.363805e+07  4.278421e+07  ...  1.827369e+08   \nArab World            3.932270e+10  3.688963e+10  ...  9.150404e+10   \nUnited Arab Emirates  4.010347e+09  4.233084e+09  ...  1.383635e+10   \n...                            ...           ...  ...           ...   \nKosovo                         NaN           NaN  ...  2.722709e+07   \nYemen, Rep.           3.845027e+08  3.952530e+08  ...  1.420775e+09   \nSouth Africa          1.905656e+09  1.738037e+09  ...  3.592688e+09   \nZambia                         NaN  5.611343e+07  ...  2.209623e+08   \nZimbabwe              3.060000e+08  2.634000e+08  ...           NaN   \n\n                              2010          2011          2012          2013  \\\nCountry                                                                        \nAfghanistan           2.981469e+08  3.258070e+08  2.385834e+08  2.171941e+08   \nAngola                3.500795e+09  3.639496e+09  4.144635e+09  6.090752e+09   \nAlbania               1.858932e+08  1.970068e+08  1.832047e+08  1.800155e+08   \nArab World            9.797637e+10  1.080000e+11  1.220000e+11  1.430000e+11   \nUnited Arab Emirates  1.750470e+10  1.918176e+10  1.902410e+10  2.356106e+10   \n...                            ...           ...           ...           ...   \nKosovo                3.857812e+07  5.096886e+07  4.339040e+07  4.859768e+07   \nYemen, Rep.           1.448153e+09  1.612254e+09  1.618840e+09  1.648751e+09   \nSouth Africa          4.188168e+09  4.594154e+09  4.489590e+09  4.118208e+09   \nZambia                2.801878e+08  3.091138e+08  3.463014e+08  3.813458e+08   \nZimbabwe              9.829300e+07  1.984380e+08  3.182720e+08  3.567000e+08   \n\n                              2014          2015          2016          2017  \\\nCountry                                                                        \nAfghanistan           2.682271e+08  1.995186e+08  1.858783e+08  1.914071e+08   \nAngola                6.841864e+09  3.608299e+09  2.764055e+09  3.062873e+09   \nAlbania               1.781204e+08  1.323507e+08  1.308532e+08  1.443827e+08   \nArab World            1.550000e+11  1.380000e+11  1.120000e+11  1.190000e+11   \nUnited Arab Emirates  2.275507e+10           NaN           NaN           NaN   \n...                            ...           ...           ...           ...   \nKosovo                5.357579e+07  4.998416e+07  5.193762e+07  5.726263e+07   \nYemen, Rep.           1.714831e+09           NaN           NaN           NaN   \nSouth Africa          3.892469e+09  3.488868e+09  3.169756e+09  3.638937e+09   \nZambia                4.436044e+08  3.724476e+08  2.995048e+08  3.396645e+08   \nZimbabwe              3.681000e+08  3.766770e+08  3.580650e+08  3.405220e+08   \n\n                              2018  \nCountry                             \nAfghanistan           1.980863e+08  \nAngola                1.983614e+09  \nAlbania               1.804887e+08  \nArab World            1.130000e+11  \nUnited Arab Emirates           NaN  \n...                            ...  \nKosovo                6.334407e+07  \nYemen, Rep.                    NaN  \nSouth Africa          3.639879e+09  \nZambia                3.780254e+08  \nZimbabwe              4.203640e+08  \n\n[211 rows x 29 columns]",
      "text/html": "<div>\n<style scoped>\n    .dataframe tbody tr th:only-of-type {\n        vertical-align: middle;\n    }\n\n    .dataframe tbody tr th {\n        vertical-align: top;\n    }\n\n    .dataframe thead th {\n        text-align: right;\n    }\n</style>\n<table border=\"1\" class=\"dataframe\">\n  <thead>\n    <tr style=\"text-align: right;\">\n      <th></th>\n      <th>1990</th>\n      <th>1991</th>\n      <th>1992</th>\n      <th>1993</th>\n      <th>1994</th>\n      <th>1995</th>\n      <th>1996</th>\n      <th>1997</th>\n      <th>1998</th>\n      <th>1999</th>\n      <th>...</th>\n      <th>2009</th>\n      <th>2010</th>\n      <th>2011</th>\n      <th>2012</th>\n      <th>2013</th>\n      <th>2014</th>\n      <th>2015</th>\n      <th>2016</th>\n      <th>2017</th>\n      <th>2018</th>\n    </tr>\n    <tr>\n      <th>Country</th>\n      <th></th>\n      <th></th>\n      <th></th>\n      <th></th>\n      <th></th>\n      <th></th>\n      <th></th>\n      <th></th>\n      <th></th>\n      <th></th>\n      <th></th>\n      <th></th>\n      <th></th>\n      <th></th>\n      <th></th>\n      <th></th>\n      <th></th>\n      <th></th>\n      <th></th>\n      <th></th>\n      <th></th>\n    </tr>\n  </thead>\n  <tbody>\n    <tr>\n      <th>Afghanistan</th>\n      <td>NaN</td>\n      <td>NaN</td>\n      <td>NaN</td>\n      <td>NaN</td>\n      <td>NaN</td>\n      <td>NaN</td>\n      <td>NaN</td>\n      <td>NaN</td>\n      <td>NaN</td>\n      <td>NaN</td>\n      <td>...</td>\n      <td>2.518695e+08</td>\n      <td>2.981469e+08</td>\n      <td>3.258070e+08</td>\n      <td>2.385834e+08</td>\n      <td>2.171941e+08</td>\n      <td>2.682271e+08</td>\n      <td>1.995186e+08</td>\n      <td>1.858783e+08</td>\n      <td>1.914071e+08</td>\n      <td>1.980863e+08</td>\n    </tr>\n    <tr>\n      <th>Angola</th>\n      <td>1.751153e+09</td>\n      <td>1.031248e+09</td>\n      <td>7.941388e+08</td>\n      <td>1.774398e+09</td>\n      <td>5.949912e+08</td>\n      <td>2.338437e+08</td>\n      <td>1.597419e+08</td>\n      <td>4.567805e+08</td>\n      <td>1.702783e+08</td>\n      <td>1.066589e+09</td>\n      <td>...</td>\n      <td>3.311193e+09</td>\n      <td>3.500795e+09</td>\n      <td>3.639496e+09</td>\n      <td>4.144635e+09</td>\n      <td>6.090752e+09</td>\n      <td>6.841864e+09</td>\n      <td>3.608299e+09</td>\n      <td>2.764055e+09</td>\n      <td>3.062873e+09</td>\n      <td>1.983614e+09</td>\n    </tr>\n    <tr>\n      <th>Albania</th>\n      <td>NaN</td>\n      <td>NaN</td>\n      <td>3.155966e+07</td>\n      <td>3.928984e+07</td>\n      <td>4.964950e+07</td>\n      <td>5.090752e+07</td>\n      <td>4.571336e+07</td>\n      <td>2.982549e+07</td>\n      <td>3.363805e+07</td>\n      <td>4.278421e+07</td>\n      <td>...</td>\n      <td>1.827369e+08</td>\n      <td>1.858932e+08</td>\n      <td>1.970068e+08</td>\n      <td>1.832047e+08</td>\n      <td>1.800155e+08</td>\n      <td>1.781204e+08</td>\n      <td>1.323507e+08</td>\n      <td>1.308532e+08</td>\n      <td>1.443827e+08</td>\n      <td>1.804887e+08</td>\n    </tr>\n    <tr>\n      <th>Arab World</th>\n      <td>3.651229e+10</td>\n      <td>4.103510e+10</td>\n      <td>3.281075e+10</td>\n      <td>2.960635e+10</td>\n      <td>2.941337e+10</td>\n      <td>2.668432e+10</td>\n      <td>2.648612e+10</td>\n      <td>3.548406e+10</td>\n      <td>3.932270e+10</td>\n      <td>3.688963e+10</td>\n      <td>...</td>\n      <td>9.150404e+10</td>\n      <td>9.797637e+10</td>\n      <td>1.080000e+11</td>\n      <td>1.220000e+11</td>\n      <td>1.430000e+11</td>\n      <td>1.550000e+11</td>\n      <td>1.380000e+11</td>\n      <td>1.120000e+11</td>\n      <td>1.190000e+11</td>\n      <td>1.130000e+11</td>\n    </tr>\n    <tr>\n      <th>United Arab Emirates</th>\n      <td>NaN</td>\n      <td>NaN</td>\n      <td>NaN</td>\n      <td>NaN</td>\n      <td>NaN</td>\n      <td>NaN</td>\n      <td>NaN</td>\n      <td>3.335767e+09</td>\n      <td>4.010347e+09</td>\n      <td>4.233084e+09</td>\n      <td>...</td>\n      <td>1.383635e+10</td>\n      <td>1.750470e+10</td>\n      <td>1.918176e+10</td>\n      <td>1.902410e+10</td>\n      <td>2.356106e+10</td>\n      <td>2.275507e+10</td>\n      <td>NaN</td>\n      <td>NaN</td>\n      <td>NaN</td>\n      <td>NaN</td>\n    </tr>\n    <tr>\n      <th>...</th>\n      <td>...</td>\n      <td>...</td>\n      <td>...</td>\n      <td>...</td>\n      <td>...</td>\n      <td>...</td>\n      <td>...</td>\n      <td>...</td>\n      <td>...</td>\n      <td>...</td>\n      <td>...</td>\n      <td>...</td>\n      <td>...</td>\n      <td>...</td>\n      <td>...</td>\n      <td>...</td>\n      <td>...</td>\n      <td>...</td>\n      <td>...</td>\n      <td>...</td>\n      <td>...</td>\n    </tr>\n    <tr>\n      <th>Kosovo</th>\n      <td>NaN</td>\n      <td>NaN</td>\n      <td>NaN</td>\n      <td>NaN</td>\n      <td>NaN</td>\n      <td>NaN</td>\n      <td>NaN</td>\n      <td>NaN</td>\n      <td>NaN</td>\n      <td>NaN</td>\n      <td>...</td>\n      <td>2.722709e+07</td>\n      <td>3.857812e+07</td>\n      <td>5.096886e+07</td>\n      <td>4.339040e+07</td>\n      <td>4.859768e+07</td>\n      <td>5.357579e+07</td>\n      <td>4.998416e+07</td>\n      <td>5.193762e+07</td>\n      <td>5.726263e+07</td>\n      <td>6.334407e+07</td>\n    </tr>\n    <tr>\n      <th>Yemen, Rep.</th>\n      <td>8.070707e+08</td>\n      <td>1.028218e+09</td>\n      <td>1.306900e+09</td>\n      <td>1.535458e+09</td>\n      <td>2.353269e+09</td>\n      <td>8.058924e+08</td>\n      <td>4.160086e+08</td>\n      <td>3.970730e+08</td>\n      <td>3.845027e+08</td>\n      <td>3.952530e+08</td>\n      <td>...</td>\n      <td>1.420775e+09</td>\n      <td>1.448153e+09</td>\n      <td>1.612254e+09</td>\n      <td>1.618840e+09</td>\n      <td>1.648751e+09</td>\n      <td>1.714831e+09</td>\n      <td>NaN</td>\n      <td>NaN</td>\n      <td>NaN</td>\n      <td>NaN</td>\n    </tr>\n    <tr>\n      <th>South Africa</th>\n      <td>4.364458e+09</td>\n      <td>3.874415e+09</td>\n      <td>3.677406e+09</td>\n      <td>3.254313e+09</td>\n      <td>3.478582e+09</td>\n      <td>3.292447e+09</td>\n      <td>2.591787e+09</td>\n      <td>2.414138e+09</td>\n      <td>1.905656e+09</td>\n      <td>1.738037e+09</td>\n      <td>...</td>\n      <td>3.592688e+09</td>\n      <td>4.188168e+09</td>\n      <td>4.594154e+09</td>\n      <td>4.489590e+09</td>\n      <td>4.118208e+09</td>\n      <td>3.892469e+09</td>\n      <td>3.488868e+09</td>\n      <td>3.169756e+09</td>\n      <td>3.638937e+09</td>\n      <td>3.639879e+09</td>\n    </tr>\n    <tr>\n      <th>Zambia</th>\n      <td>1.393240e+08</td>\n      <td>8.624731e+07</td>\n      <td>9.775628e+07</td>\n      <td>5.112829e+07</td>\n      <td>6.286947e+07</td>\n      <td>5.526554e+07</td>\n      <td>3.783591e+07</td>\n      <td>4.336250e+07</td>\n      <td>NaN</td>\n      <td>5.611343e+07</td>\n      <td>...</td>\n      <td>2.209623e+08</td>\n      <td>2.801878e+08</td>\n      <td>3.091138e+08</td>\n      <td>3.463014e+08</td>\n      <td>3.813458e+08</td>\n      <td>4.436044e+08</td>\n      <td>3.724476e+08</td>\n      <td>2.995048e+08</td>\n      <td>3.396645e+08</td>\n      <td>3.780254e+08</td>\n    </tr>\n    <tr>\n      <th>Zimbabwe</th>\n      <td>4.163000e+08</td>\n      <td>3.760500e+08</td>\n      <td>2.963500e+08</td>\n      <td>2.498000e+08</td>\n      <td>2.479000e+08</td>\n      <td>2.629000e+08</td>\n      <td>2.916500e+08</td>\n      <td>3.114000e+08</td>\n      <td>3.060000e+08</td>\n      <td>2.634000e+08</td>\n      <td>...</td>\n      <td>NaN</td>\n      <td>9.829300e+07</td>\n      <td>1.984380e+08</td>\n      <td>3.182720e+08</td>\n      <td>3.567000e+08</td>\n      <td>3.681000e+08</td>\n      <td>3.766770e+08</td>\n      <td>3.580650e+08</td>\n      <td>3.405220e+08</td>\n      <td>4.203640e+08</td>\n    </tr>\n  </tbody>\n</table>\n<p>211 rows × 29 columns</p>\n</div>"
     },
     "metadata": {},
     "execution_count": 9
    }
   ],
   "source": [
    "clean"
   ]
  },
  {
   "cell_type": "code",
   "execution_count": 10,
   "metadata": {},
   "outputs": [],
   "source": [
    "clean.to_csv('cleanspending.csv')"
   ]
  },
  {
   "cell_type": "code",
   "execution_count": 15,
   "metadata": {},
   "outputs": [],
   "source": [
    "file2=pd.read_csv('population.csv', skiprows=4)"
   ]
  },
  {
   "cell_type": "code",
   "execution_count": 16,
   "metadata": {},
   "outputs": [],
   "source": [
    "df=pd.DataFrame(file2)"
   ]
  },
  {
   "cell_type": "code",
   "execution_count": 17,
   "metadata": {},
   "outputs": [
    {
     "output_type": "execute_result",
     "data": {
      "text/plain": "     Country Name Country Code     Indicator Name Indicator Code        1960  \\\n0           Aruba          ABW  Population, total    SP.POP.TOTL     54211.0   \n1     Afghanistan          AFG  Population, total    SP.POP.TOTL   8996973.0   \n2          Angola          AGO  Population, total    SP.POP.TOTL   5454933.0   \n3         Albania          ALB  Population, total    SP.POP.TOTL   1608800.0   \n4         Andorra          AND  Population, total    SP.POP.TOTL     13411.0   \n..            ...          ...                ...            ...         ...   \n259        Kosovo          XKX  Population, total    SP.POP.TOTL    947000.0   \n260   Yemen, Rep.          YEM  Population, total    SP.POP.TOTL   5315355.0   \n261  South Africa          ZAF  Population, total    SP.POP.TOTL  17099840.0   \n262        Zambia          ZMB  Population, total    SP.POP.TOTL   3070776.0   \n263      Zimbabwe          ZWE  Population, total    SP.POP.TOTL   3776681.0   \n\n           1961        1962        1963        1964        1965  ...  \\\n0       55438.0     56225.0     56695.0     57032.0     57360.0  ...   \n1     9169410.0   9351441.0   9543205.0   9744781.0   9956320.0  ...   \n2     5531472.0   5608539.0   5679458.0   5735044.0   5770570.0  ...   \n3     1659800.0   1711319.0   1762621.0   1814135.0   1864791.0  ...   \n4       14375.0     15370.0     16412.0     17469.0     18549.0  ...   \n..          ...         ...         ...         ...         ...  ...   \n259    966000.0    994000.0   1022000.0   1050000.0   1078000.0  ...   \n260   5393036.0   5473671.0   5556766.0   5641597.0   5727751.0  ...   \n261  17524533.0  17965725.0  18423161.0  18896307.0  19384841.0  ...   \n262   3164329.0   3260650.0   3360104.0   3463213.0   3570464.0  ...   \n263   3905034.0   4039201.0   4178726.0   4322861.0   4471177.0  ...   \n\n           2011        2012        2013        2014        2015        2016  \\\n0      102046.0    102560.0    103159.0    103774.0    104341.0    104872.0   \n1    30117413.0  31161376.0  32269589.0  33370794.0  34413603.0  35383128.0   \n2    24220661.0  25107931.0  26015780.0  26941779.0  27884381.0  28842484.0   \n3     2905195.0   2900401.0   2895092.0   2889104.0   2880703.0   2876101.0   \n4       83747.0     82427.0     80774.0     79213.0     78011.0     77297.0   \n..          ...         ...         ...         ...         ...         ...   \n259   1791000.0   1807106.0   1818117.0   1812771.0   1788196.0   1777557.0   \n260  23807588.0  24473178.0  25147109.0  25823485.0  26497889.0  27168210.0   \n261  52004172.0  52834005.0  53689236.0  54545991.0  55386367.0  56203654.0   \n262  14023193.0  14465121.0  14926504.0  15399753.0  15879361.0  16363507.0   \n263  12894316.0  13115131.0  13350356.0  13586681.0  13814629.0  14030390.0   \n\n           2017        2018        2019  Unnamed: 64  \n0      105366.0    105845.0    106314.0          NaN  \n1    36296400.0  37172386.0  38041754.0          NaN  \n2    29816748.0  30809762.0  31825295.0          NaN  \n3     2873457.0   2866376.0   2854191.0          NaN  \n4       77001.0     77006.0     77142.0          NaN  \n..          ...         ...         ...          ...  \n259   1791003.0   1797085.0   1794248.0          NaN  \n260  27834821.0  28498687.0  29161922.0          NaN  \n261  57000451.0  57779622.0  58558270.0          NaN  \n262  16853688.0  17351822.0  17861030.0          NaN  \n263  14236745.0  14439018.0  14645468.0          NaN  \n\n[264 rows x 65 columns]",
      "text/html": "<div>\n<style scoped>\n    .dataframe tbody tr th:only-of-type {\n        vertical-align: middle;\n    }\n\n    .dataframe tbody tr th {\n        vertical-align: top;\n    }\n\n    .dataframe thead th {\n        text-align: right;\n    }\n</style>\n<table border=\"1\" class=\"dataframe\">\n  <thead>\n    <tr style=\"text-align: right;\">\n      <th></th>\n      <th>Country Name</th>\n      <th>Country Code</th>\n      <th>Indicator Name</th>\n      <th>Indicator Code</th>\n      <th>1960</th>\n      <th>1961</th>\n      <th>1962</th>\n      <th>1963</th>\n      <th>1964</th>\n      <th>1965</th>\n      <th>...</th>\n      <th>2011</th>\n      <th>2012</th>\n      <th>2013</th>\n      <th>2014</th>\n      <th>2015</th>\n      <th>2016</th>\n      <th>2017</th>\n      <th>2018</th>\n      <th>2019</th>\n      <th>Unnamed: 64</th>\n    </tr>\n  </thead>\n  <tbody>\n    <tr>\n      <th>0</th>\n      <td>Aruba</td>\n      <td>ABW</td>\n      <td>Population, total</td>\n      <td>SP.POP.TOTL</td>\n      <td>54211.0</td>\n      <td>55438.0</td>\n      <td>56225.0</td>\n      <td>56695.0</td>\n      <td>57032.0</td>\n      <td>57360.0</td>\n      <td>...</td>\n      <td>102046.0</td>\n      <td>102560.0</td>\n      <td>103159.0</td>\n      <td>103774.0</td>\n      <td>104341.0</td>\n      <td>104872.0</td>\n      <td>105366.0</td>\n      <td>105845.0</td>\n      <td>106314.0</td>\n      <td>NaN</td>\n    </tr>\n    <tr>\n      <th>1</th>\n      <td>Afghanistan</td>\n      <td>AFG</td>\n      <td>Population, total</td>\n      <td>SP.POP.TOTL</td>\n      <td>8996973.0</td>\n      <td>9169410.0</td>\n      <td>9351441.0</td>\n      <td>9543205.0</td>\n      <td>9744781.0</td>\n      <td>9956320.0</td>\n      <td>...</td>\n      <td>30117413.0</td>\n      <td>31161376.0</td>\n      <td>32269589.0</td>\n      <td>33370794.0</td>\n      <td>34413603.0</td>\n      <td>35383128.0</td>\n      <td>36296400.0</td>\n      <td>37172386.0</td>\n      <td>38041754.0</td>\n      <td>NaN</td>\n    </tr>\n    <tr>\n      <th>2</th>\n      <td>Angola</td>\n      <td>AGO</td>\n      <td>Population, total</td>\n      <td>SP.POP.TOTL</td>\n      <td>5454933.0</td>\n      <td>5531472.0</td>\n      <td>5608539.0</td>\n      <td>5679458.0</td>\n      <td>5735044.0</td>\n      <td>5770570.0</td>\n      <td>...</td>\n      <td>24220661.0</td>\n      <td>25107931.0</td>\n      <td>26015780.0</td>\n      <td>26941779.0</td>\n      <td>27884381.0</td>\n      <td>28842484.0</td>\n      <td>29816748.0</td>\n      <td>30809762.0</td>\n      <td>31825295.0</td>\n      <td>NaN</td>\n    </tr>\n    <tr>\n      <th>3</th>\n      <td>Albania</td>\n      <td>ALB</td>\n      <td>Population, total</td>\n      <td>SP.POP.TOTL</td>\n      <td>1608800.0</td>\n      <td>1659800.0</td>\n      <td>1711319.0</td>\n      <td>1762621.0</td>\n      <td>1814135.0</td>\n      <td>1864791.0</td>\n      <td>...</td>\n      <td>2905195.0</td>\n      <td>2900401.0</td>\n      <td>2895092.0</td>\n      <td>2889104.0</td>\n      <td>2880703.0</td>\n      <td>2876101.0</td>\n      <td>2873457.0</td>\n      <td>2866376.0</td>\n      <td>2854191.0</td>\n      <td>NaN</td>\n    </tr>\n    <tr>\n      <th>4</th>\n      <td>Andorra</td>\n      <td>AND</td>\n      <td>Population, total</td>\n      <td>SP.POP.TOTL</td>\n      <td>13411.0</td>\n      <td>14375.0</td>\n      <td>15370.0</td>\n      <td>16412.0</td>\n      <td>17469.0</td>\n      <td>18549.0</td>\n      <td>...</td>\n      <td>83747.0</td>\n      <td>82427.0</td>\n      <td>80774.0</td>\n      <td>79213.0</td>\n      <td>78011.0</td>\n      <td>77297.0</td>\n      <td>77001.0</td>\n      <td>77006.0</td>\n      <td>77142.0</td>\n      <td>NaN</td>\n    </tr>\n    <tr>\n      <th>...</th>\n      <td>...</td>\n      <td>...</td>\n      <td>...</td>\n      <td>...</td>\n      <td>...</td>\n      <td>...</td>\n      <td>...</td>\n      <td>...</td>\n      <td>...</td>\n      <td>...</td>\n      <td>...</td>\n      <td>...</td>\n      <td>...</td>\n      <td>...</td>\n      <td>...</td>\n      <td>...</td>\n      <td>...</td>\n      <td>...</td>\n      <td>...</td>\n      <td>...</td>\n      <td>...</td>\n    </tr>\n    <tr>\n      <th>259</th>\n      <td>Kosovo</td>\n      <td>XKX</td>\n      <td>Population, total</td>\n      <td>SP.POP.TOTL</td>\n      <td>947000.0</td>\n      <td>966000.0</td>\n      <td>994000.0</td>\n      <td>1022000.0</td>\n      <td>1050000.0</td>\n      <td>1078000.0</td>\n      <td>...</td>\n      <td>1791000.0</td>\n      <td>1807106.0</td>\n      <td>1818117.0</td>\n      <td>1812771.0</td>\n      <td>1788196.0</td>\n      <td>1777557.0</td>\n      <td>1791003.0</td>\n      <td>1797085.0</td>\n      <td>1794248.0</td>\n      <td>NaN</td>\n    </tr>\n    <tr>\n      <th>260</th>\n      <td>Yemen, Rep.</td>\n      <td>YEM</td>\n      <td>Population, total</td>\n      <td>SP.POP.TOTL</td>\n      <td>5315355.0</td>\n      <td>5393036.0</td>\n      <td>5473671.0</td>\n      <td>5556766.0</td>\n      <td>5641597.0</td>\n      <td>5727751.0</td>\n      <td>...</td>\n      <td>23807588.0</td>\n      <td>24473178.0</td>\n      <td>25147109.0</td>\n      <td>25823485.0</td>\n      <td>26497889.0</td>\n      <td>27168210.0</td>\n      <td>27834821.0</td>\n      <td>28498687.0</td>\n      <td>29161922.0</td>\n      <td>NaN</td>\n    </tr>\n    <tr>\n      <th>261</th>\n      <td>South Africa</td>\n      <td>ZAF</td>\n      <td>Population, total</td>\n      <td>SP.POP.TOTL</td>\n      <td>17099840.0</td>\n      <td>17524533.0</td>\n      <td>17965725.0</td>\n      <td>18423161.0</td>\n      <td>18896307.0</td>\n      <td>19384841.0</td>\n      <td>...</td>\n      <td>52004172.0</td>\n      <td>52834005.0</td>\n      <td>53689236.0</td>\n      <td>54545991.0</td>\n      <td>55386367.0</td>\n      <td>56203654.0</td>\n      <td>57000451.0</td>\n      <td>57779622.0</td>\n      <td>58558270.0</td>\n      <td>NaN</td>\n    </tr>\n    <tr>\n      <th>262</th>\n      <td>Zambia</td>\n      <td>ZMB</td>\n      <td>Population, total</td>\n      <td>SP.POP.TOTL</td>\n      <td>3070776.0</td>\n      <td>3164329.0</td>\n      <td>3260650.0</td>\n      <td>3360104.0</td>\n      <td>3463213.0</td>\n      <td>3570464.0</td>\n      <td>...</td>\n      <td>14023193.0</td>\n      <td>14465121.0</td>\n      <td>14926504.0</td>\n      <td>15399753.0</td>\n      <td>15879361.0</td>\n      <td>16363507.0</td>\n      <td>16853688.0</td>\n      <td>17351822.0</td>\n      <td>17861030.0</td>\n      <td>NaN</td>\n    </tr>\n    <tr>\n      <th>263</th>\n      <td>Zimbabwe</td>\n      <td>ZWE</td>\n      <td>Population, total</td>\n      <td>SP.POP.TOTL</td>\n      <td>3776681.0</td>\n      <td>3905034.0</td>\n      <td>4039201.0</td>\n      <td>4178726.0</td>\n      <td>4322861.0</td>\n      <td>4471177.0</td>\n      <td>...</td>\n      <td>12894316.0</td>\n      <td>13115131.0</td>\n      <td>13350356.0</td>\n      <td>13586681.0</td>\n      <td>13814629.0</td>\n      <td>14030390.0</td>\n      <td>14236745.0</td>\n      <td>14439018.0</td>\n      <td>14645468.0</td>\n      <td>NaN</td>\n    </tr>\n  </tbody>\n</table>\n<p>264 rows × 65 columns</p>\n</div>"
     },
     "metadata": {},
     "execution_count": 17
    }
   ],
   "source": []
  },
  {
   "cell_type": "code",
   "execution_count": null,
   "metadata": {},
   "outputs": [],
   "source": []
  }
 ]
}