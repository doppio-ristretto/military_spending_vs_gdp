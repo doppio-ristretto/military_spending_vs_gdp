{
 "metadata": {
  "language_info": {
   "codemirror_mode": {
    "name": "ipython",
    "version": 3
   },
   "file_extension": ".py",
   "mimetype": "text/x-python",
   "name": "python",
   "nbconvert_exporter": "python",
   "pygments_lexer": "ipython3",
   "version": "3.7.6-final"
  },
  "orig_nbformat": 2,
  "kernelspec": {
   "name": "python3",
   "display_name": "Python 3"
  }
 },
 "nbformat": 4,
 "nbformat_minor": 2,
 "cells": [
  {
   "cell_type": "code",
   "execution_count": 1,
   "metadata": {},
   "outputs": [],
   "source": [
    "import pandas as pd\n",
    "from sqlalchemy import create_engine"
   ]
  },
  {
   "cell_type": "code",
   "execution_count": 2,
   "metadata": {},
   "outputs": [
    {
     "output_type": "execute_result",
     "data": {
      "text/plain": "              1990 (Population)  1991 (Population)  1992 (Population)  \\\nCountry                                                                 \nAruba                   62149.0            64622.0            68235.0   \nAfghanistan          12412308.0         13299017.0         14485546.0   \nAngola               11848386.0         12248901.0         12657366.0   \nAlbania               3286542.0          3266790.0          3247039.0   \nAndorra                 54509.0            56671.0            58888.0   \n...                         ...                ...                ...   \nKosovo                1862000.0          1898000.0          1932000.0   \nYemen, Rep.          11709993.0         12302124.0         12954155.0   \nSouth Africa         36800509.0         37718950.0         38672607.0   \nZambia                8036845.0          8246656.0          8451347.0   \nZimbabwe             10432421.0         10680995.0         10900502.0   \n\n              1993 (Population)  1994 (Population)  1995 (Population)  \\\nCountry                                                                 \nAruba                   72504.0            76700.0            80324.0   \nAfghanistan          15816603.0         17075727.0         18110657.0   \nAngola               13075049.0         13503747.0         13945206.0   \nAlbania               3227287.0          3207536.0          3187784.0   \nAndorra                 60971.0            62677.0            63850.0   \n...                         ...                ...                ...   \nKosovo                1965000.0          1997000.0          2029000.0   \nYemen, Rep.          13634076.0         14297613.0         14913315.0   \nSouth Africa         39633750.0         40564059.0         41435758.0   \nZambia                8656486.0          8869740.0          9096607.0   \nZimbabwe             11092766.0         11261744.0         11410714.0   \n\n              1996 (Population)  1997 (Population)  1998 (Population)  \\\nCountry                                                                 \nAruba                   83200.0            85451.0            87277.0   \nAfghanistan          18853437.0         19357126.0         19737765.0   \nAngola               14400719.0         14871570.0         15359601.0   \nAlbania               3168033.0          3148281.0          3128530.0   \nAndorra                 64360.0            64327.0            64142.0   \n...                         ...                ...                ...   \nKosovo                2059000.0          2086000.0          1966000.0   \nYemen, Rep.          15469274.0         15975668.0         16450310.0   \nSouth Africa         42241011.0         42987461.0         43682260.0   \nZambia                9339733.0          9597609.0          9866476.0   \nZimbabwe             11541217.0         11653242.0         11747072.0   \n\n              1999 (Population)  ...  2009 (Population)  2010 (Population)  \\\nCountry                          ...                                         \nAruba                   89005.0  ...           101455.0           101669.0   \nAfghanistan          20170844.0  ...         28394813.0         29185507.0   \nAngola               15866869.0  ...         22514281.0         23356246.0   \nAlbania               3108778.0  ...          2927519.0          2913021.0   \nAndorra                 64370.0  ...            84463.0            84449.0   \n...                         ...  ...                ...                ...   \nKosovo                1762000.0  ...          1761474.0          1775680.0   \nYemen, Rep.          16921149.0  ...         22516460.0         23154855.0   \nSouth Africa         44338543.0  ...         50477011.0         51216964.0   \nZambia               10140561.0  ...         13215139.0         13605984.0   \nZimbabwe             11822719.0  ...         12526968.0         12697723.0   \n\n              2011 (Population)  2012 (Population)  2013 (Population)  \\\nCountry                                                                 \nAruba                  102046.0           102560.0           103159.0   \nAfghanistan          30117413.0         31161376.0         32269589.0   \nAngola               24220661.0         25107931.0         26015780.0   \nAlbania               2905195.0          2900401.0          2895092.0   \nAndorra                 83747.0            82427.0            80774.0   \n...                         ...                ...                ...   \nKosovo                1791000.0          1807106.0          1818117.0   \nYemen, Rep.          23807588.0         24473178.0         25147109.0   \nSouth Africa         52004172.0         52834005.0         53689236.0   \nZambia               14023193.0         14465121.0         14926504.0   \nZimbabwe             12894316.0         13115131.0         13350356.0   \n\n              2014 (Population)  2015 (Population)  2016 (Population)  \\\nCountry                                                                 \nAruba                  103774.0           104341.0           104872.0   \nAfghanistan          33370794.0         34413603.0         35383128.0   \nAngola               26941779.0         27884381.0         28842484.0   \nAlbania               2889104.0          2880703.0          2876101.0   \nAndorra                 79213.0            78011.0            77297.0   \n...                         ...                ...                ...   \nKosovo                1812771.0          1788196.0          1777557.0   \nYemen, Rep.          25823485.0         26497889.0         27168210.0   \nSouth Africa         54545991.0         55386367.0         56203654.0   \nZambia               15399753.0         15879361.0         16363507.0   \nZimbabwe             13586681.0         13814629.0         14030390.0   \n\n              2017 (Population)  Unnamed: 64 (Population)  \nCountry                                                    \nAruba                  105366.0                       NaN  \nAfghanistan          36296400.0                       NaN  \nAngola               29816748.0                       NaN  \nAlbania               2873457.0                       NaN  \nAndorra                 77001.0                       NaN  \n...                         ...                       ...  \nKosovo                1791003.0                       NaN  \nYemen, Rep.          27834821.0                       NaN  \nSouth Africa         57000451.0                       NaN  \nZambia               16853688.0                       NaN  \nZimbabwe             14236745.0                       NaN  \n\n[263 rows x 29 columns]",
      "text/html": "<div>\n<style scoped>\n    .dataframe tbody tr th:only-of-type {\n        vertical-align: middle;\n    }\n\n    .dataframe tbody tr th {\n        vertical-align: top;\n    }\n\n    .dataframe thead th {\n        text-align: right;\n    }\n</style>\n<table border=\"1\" class=\"dataframe\">\n  <thead>\n    <tr style=\"text-align: right;\">\n      <th></th>\n      <th>1990 (Population)</th>\n      <th>1991 (Population)</th>\n      <th>1992 (Population)</th>\n      <th>1993 (Population)</th>\n      <th>1994 (Population)</th>\n      <th>1995 (Population)</th>\n      <th>1996 (Population)</th>\n      <th>1997 (Population)</th>\n      <th>1998 (Population)</th>\n      <th>1999 (Population)</th>\n      <th>...</th>\n      <th>2009 (Population)</th>\n      <th>2010 (Population)</th>\n      <th>2011 (Population)</th>\n      <th>2012 (Population)</th>\n      <th>2013 (Population)</th>\n      <th>2014 (Population)</th>\n      <th>2015 (Population)</th>\n      <th>2016 (Population)</th>\n      <th>2017 (Population)</th>\n      <th>Unnamed: 64 (Population)</th>\n    </tr>\n    <tr>\n      <th>Country</th>\n      <th></th>\n      <th></th>\n      <th></th>\n      <th></th>\n      <th></th>\n      <th></th>\n      <th></th>\n      <th></th>\n      <th></th>\n      <th></th>\n      <th></th>\n      <th></th>\n      <th></th>\n      <th></th>\n      <th></th>\n      <th></th>\n      <th></th>\n      <th></th>\n      <th></th>\n      <th></th>\n      <th></th>\n    </tr>\n  </thead>\n  <tbody>\n    <tr>\n      <th>Aruba</th>\n      <td>62149.0</td>\n      <td>64622.0</td>\n      <td>68235.0</td>\n      <td>72504.0</td>\n      <td>76700.0</td>\n      <td>80324.0</td>\n      <td>83200.0</td>\n      <td>85451.0</td>\n      <td>87277.0</td>\n      <td>89005.0</td>\n      <td>...</td>\n      <td>101455.0</td>\n      <td>101669.0</td>\n      <td>102046.0</td>\n      <td>102560.0</td>\n      <td>103159.0</td>\n      <td>103774.0</td>\n      <td>104341.0</td>\n      <td>104872.0</td>\n      <td>105366.0</td>\n      <td>NaN</td>\n    </tr>\n    <tr>\n      <th>Afghanistan</th>\n      <td>12412308.0</td>\n      <td>13299017.0</td>\n      <td>14485546.0</td>\n      <td>15816603.0</td>\n      <td>17075727.0</td>\n      <td>18110657.0</td>\n      <td>18853437.0</td>\n      <td>19357126.0</td>\n      <td>19737765.0</td>\n      <td>20170844.0</td>\n      <td>...</td>\n      <td>28394813.0</td>\n      <td>29185507.0</td>\n      <td>30117413.0</td>\n      <td>31161376.0</td>\n      <td>32269589.0</td>\n      <td>33370794.0</td>\n      <td>34413603.0</td>\n      <td>35383128.0</td>\n      <td>36296400.0</td>\n      <td>NaN</td>\n    </tr>\n    <tr>\n      <th>Angola</th>\n      <td>11848386.0</td>\n      <td>12248901.0</td>\n      <td>12657366.0</td>\n      <td>13075049.0</td>\n      <td>13503747.0</td>\n      <td>13945206.0</td>\n      <td>14400719.0</td>\n      <td>14871570.0</td>\n      <td>15359601.0</td>\n      <td>15866869.0</td>\n      <td>...</td>\n      <td>22514281.0</td>\n      <td>23356246.0</td>\n      <td>24220661.0</td>\n      <td>25107931.0</td>\n      <td>26015780.0</td>\n      <td>26941779.0</td>\n      <td>27884381.0</td>\n      <td>28842484.0</td>\n      <td>29816748.0</td>\n      <td>NaN</td>\n    </tr>\n    <tr>\n      <th>Albania</th>\n      <td>3286542.0</td>\n      <td>3266790.0</td>\n      <td>3247039.0</td>\n      <td>3227287.0</td>\n      <td>3207536.0</td>\n      <td>3187784.0</td>\n      <td>3168033.0</td>\n      <td>3148281.0</td>\n      <td>3128530.0</td>\n      <td>3108778.0</td>\n      <td>...</td>\n      <td>2927519.0</td>\n      <td>2913021.0</td>\n      <td>2905195.0</td>\n      <td>2900401.0</td>\n      <td>2895092.0</td>\n      <td>2889104.0</td>\n      <td>2880703.0</td>\n      <td>2876101.0</td>\n      <td>2873457.0</td>\n      <td>NaN</td>\n    </tr>\n    <tr>\n      <th>Andorra</th>\n      <td>54509.0</td>\n      <td>56671.0</td>\n      <td>58888.0</td>\n      <td>60971.0</td>\n      <td>62677.0</td>\n      <td>63850.0</td>\n      <td>64360.0</td>\n      <td>64327.0</td>\n      <td>64142.0</td>\n      <td>64370.0</td>\n      <td>...</td>\n      <td>84463.0</td>\n      <td>84449.0</td>\n      <td>83747.0</td>\n      <td>82427.0</td>\n      <td>80774.0</td>\n      <td>79213.0</td>\n      <td>78011.0</td>\n      <td>77297.0</td>\n      <td>77001.0</td>\n      <td>NaN</td>\n    </tr>\n    <tr>\n      <th>...</th>\n      <td>...</td>\n      <td>...</td>\n      <td>...</td>\n      <td>...</td>\n      <td>...</td>\n      <td>...</td>\n      <td>...</td>\n      <td>...</td>\n      <td>...</td>\n      <td>...</td>\n      <td>...</td>\n      <td>...</td>\n      <td>...</td>\n      <td>...</td>\n      <td>...</td>\n      <td>...</td>\n      <td>...</td>\n      <td>...</td>\n      <td>...</td>\n      <td>...</td>\n      <td>...</td>\n    </tr>\n    <tr>\n      <th>Kosovo</th>\n      <td>1862000.0</td>\n      <td>1898000.0</td>\n      <td>1932000.0</td>\n      <td>1965000.0</td>\n      <td>1997000.0</td>\n      <td>2029000.0</td>\n      <td>2059000.0</td>\n      <td>2086000.0</td>\n      <td>1966000.0</td>\n      <td>1762000.0</td>\n      <td>...</td>\n      <td>1761474.0</td>\n      <td>1775680.0</td>\n      <td>1791000.0</td>\n      <td>1807106.0</td>\n      <td>1818117.0</td>\n      <td>1812771.0</td>\n      <td>1788196.0</td>\n      <td>1777557.0</td>\n      <td>1791003.0</td>\n      <td>NaN</td>\n    </tr>\n    <tr>\n      <th>Yemen, Rep.</th>\n      <td>11709993.0</td>\n      <td>12302124.0</td>\n      <td>12954155.0</td>\n      <td>13634076.0</td>\n      <td>14297613.0</td>\n      <td>14913315.0</td>\n      <td>15469274.0</td>\n      <td>15975668.0</td>\n      <td>16450310.0</td>\n      <td>16921149.0</td>\n      <td>...</td>\n      <td>22516460.0</td>\n      <td>23154855.0</td>\n      <td>23807588.0</td>\n      <td>24473178.0</td>\n      <td>25147109.0</td>\n      <td>25823485.0</td>\n      <td>26497889.0</td>\n      <td>27168210.0</td>\n      <td>27834821.0</td>\n      <td>NaN</td>\n    </tr>\n    <tr>\n      <th>South Africa</th>\n      <td>36800509.0</td>\n      <td>37718950.0</td>\n      <td>38672607.0</td>\n      <td>39633750.0</td>\n      <td>40564059.0</td>\n      <td>41435758.0</td>\n      <td>42241011.0</td>\n      <td>42987461.0</td>\n      <td>43682260.0</td>\n      <td>44338543.0</td>\n      <td>...</td>\n      <td>50477011.0</td>\n      <td>51216964.0</td>\n      <td>52004172.0</td>\n      <td>52834005.0</td>\n      <td>53689236.0</td>\n      <td>54545991.0</td>\n      <td>55386367.0</td>\n      <td>56203654.0</td>\n      <td>57000451.0</td>\n      <td>NaN</td>\n    </tr>\n    <tr>\n      <th>Zambia</th>\n      <td>8036845.0</td>\n      <td>8246656.0</td>\n      <td>8451347.0</td>\n      <td>8656486.0</td>\n      <td>8869740.0</td>\n      <td>9096607.0</td>\n      <td>9339733.0</td>\n      <td>9597609.0</td>\n      <td>9866476.0</td>\n      <td>10140561.0</td>\n      <td>...</td>\n      <td>13215139.0</td>\n      <td>13605984.0</td>\n      <td>14023193.0</td>\n      <td>14465121.0</td>\n      <td>14926504.0</td>\n      <td>15399753.0</td>\n      <td>15879361.0</td>\n      <td>16363507.0</td>\n      <td>16853688.0</td>\n      <td>NaN</td>\n    </tr>\n    <tr>\n      <th>Zimbabwe</th>\n      <td>10432421.0</td>\n      <td>10680995.0</td>\n      <td>10900502.0</td>\n      <td>11092766.0</td>\n      <td>11261744.0</td>\n      <td>11410714.0</td>\n      <td>11541217.0</td>\n      <td>11653242.0</td>\n      <td>11747072.0</td>\n      <td>11822719.0</td>\n      <td>...</td>\n      <td>12526968.0</td>\n      <td>12697723.0</td>\n      <td>12894316.0</td>\n      <td>13115131.0</td>\n      <td>13350356.0</td>\n      <td>13586681.0</td>\n      <td>13814629.0</td>\n      <td>14030390.0</td>\n      <td>14236745.0</td>\n      <td>NaN</td>\n    </tr>\n  </tbody>\n</table>\n<p>263 rows × 29 columns</p>\n</div>"
     },
     "metadata": {},
     "execution_count": 2
    }
   ],
   "source": [
    "population = \"cleanpopulation.csv\"\n",
    "pop_df = pd.read_csv(population)\n",
    "pop_df.set_index('Country',inplace=True)\n",
    "pop_df"
   ]
  },
  {
   "cell_type": "code",
   "execution_count": 3,
   "metadata": {},
   "outputs": [
    {
     "output_type": "execute_result",
     "data": {
      "text/plain": "     Country    1990 (GDP)    1991 (GDP)    1992 (GDP)    1993 (GDP)  \\\n0  Australia  3.108380e+11  3.253580e+11  3.248780e+11  3.115290e+11   \n1    Austria  1.664630e+11  1.737940e+11  1.950780e+11  1.903800e+11   \n2    Burundi  1.132101e+09  1.167398e+09  1.083038e+09  9.386326e+08   \n3    Belgium  2.064310e+11  2.116380e+11  2.360380e+11  2.259250e+11   \n4      Benin  1.959965e+09  1.986438e+09  1.695315e+09  2.274558e+09   \n\n     1994 (GDP)    1995 (GDP)    1996 (GDP)    1997 (GDP)    1998 (GDP)  ...  \\\n0  3.222010e+11  3.672160e+11  4.003030e+11  4.345680e+11  3.988990e+11  ...   \n1  2.035350e+11  2.410380e+11  2.372510e+11  2.127900e+11  2.182600e+11  ...   \n2  9.250306e+08  1.000428e+09  8.690339e+08  9.728963e+08  8.937708e+08  ...   \n3  2.461950e+11  2.895670e+11  2.813580e+11  2.548140e+11  2.606020e+11  ...   \n4  1.598076e+09  2.169627e+09  2.361117e+09  2.268302e+09  2.455093e+09  ...   \n\n     2008 (GDP)    2009 (GDP)    2010 (GDP)    2011 (GDP)    2012 (GDP)  \\\n0  1.052580e+12  9.264480e+11  1.144260e+12  1.394280e+12  1.543410e+12   \n1  4.302940e+11  4.001720e+11  3.918930e+11  4.311200e+11  4.094250e+11   \n2  1.611836e+09  1.781455e+09  2.032135e+09  2.235821e+09  2.333308e+09   \n3  5.186260e+11  4.845530e+11  4.835480e+11  5.270080e+11  4.978840e+11   \n4  7.132787e+09  7.097199e+09  6.970241e+09  7.814081e+09  8.152554e+09   \n\n     2013 (GDP)    2014 (GDP)    2015 (GDP)    2016 (GDP)    2017 (GDP)  \n0  1.573700e+12  1.464960e+12  1.349030e+12  1.208040e+12  1.323420e+12  \n1  4.300690e+11  4.418850e+11  3.820660e+11  3.908000e+11  4.165960e+11  \n2  2.451625e+09  2.705783e+09  3.104395e+09  2.959185e+09  3.172416e+09  \n3  5.209250e+11  5.307710e+11  4.550400e+11  4.675460e+11  4.926810e+11  \n4  9.157356e+09  9.707432e+09  8.291156e+09  8.573160e+09  9.246697e+09  \n\n[5 rows x 29 columns]",
      "text/html": "<div>\n<style scoped>\n    .dataframe tbody tr th:only-of-type {\n        vertical-align: middle;\n    }\n\n    .dataframe tbody tr th {\n        vertical-align: top;\n    }\n\n    .dataframe thead th {\n        text-align: right;\n    }\n</style>\n<table border=\"1\" class=\"dataframe\">\n  <thead>\n    <tr style=\"text-align: right;\">\n      <th></th>\n      <th>Country</th>\n      <th>1990 (GDP)</th>\n      <th>1991 (GDP)</th>\n      <th>1992 (GDP)</th>\n      <th>1993 (GDP)</th>\n      <th>1994 (GDP)</th>\n      <th>1995 (GDP)</th>\n      <th>1996 (GDP)</th>\n      <th>1997 (GDP)</th>\n      <th>1998 (GDP)</th>\n      <th>...</th>\n      <th>2008 (GDP)</th>\n      <th>2009 (GDP)</th>\n      <th>2010 (GDP)</th>\n      <th>2011 (GDP)</th>\n      <th>2012 (GDP)</th>\n      <th>2013 (GDP)</th>\n      <th>2014 (GDP)</th>\n      <th>2015 (GDP)</th>\n      <th>2016 (GDP)</th>\n      <th>2017 (GDP)</th>\n    </tr>\n  </thead>\n  <tbody>\n    <tr>\n      <th>0</th>\n      <td>Australia</td>\n      <td>3.108380e+11</td>\n      <td>3.253580e+11</td>\n      <td>3.248780e+11</td>\n      <td>3.115290e+11</td>\n      <td>3.222010e+11</td>\n      <td>3.672160e+11</td>\n      <td>4.003030e+11</td>\n      <td>4.345680e+11</td>\n      <td>3.988990e+11</td>\n      <td>...</td>\n      <td>1.052580e+12</td>\n      <td>9.264480e+11</td>\n      <td>1.144260e+12</td>\n      <td>1.394280e+12</td>\n      <td>1.543410e+12</td>\n      <td>1.573700e+12</td>\n      <td>1.464960e+12</td>\n      <td>1.349030e+12</td>\n      <td>1.208040e+12</td>\n      <td>1.323420e+12</td>\n    </tr>\n    <tr>\n      <th>1</th>\n      <td>Austria</td>\n      <td>1.664630e+11</td>\n      <td>1.737940e+11</td>\n      <td>1.950780e+11</td>\n      <td>1.903800e+11</td>\n      <td>2.035350e+11</td>\n      <td>2.410380e+11</td>\n      <td>2.372510e+11</td>\n      <td>2.127900e+11</td>\n      <td>2.182600e+11</td>\n      <td>...</td>\n      <td>4.302940e+11</td>\n      <td>4.001720e+11</td>\n      <td>3.918930e+11</td>\n      <td>4.311200e+11</td>\n      <td>4.094250e+11</td>\n      <td>4.300690e+11</td>\n      <td>4.418850e+11</td>\n      <td>3.820660e+11</td>\n      <td>3.908000e+11</td>\n      <td>4.165960e+11</td>\n    </tr>\n    <tr>\n      <th>2</th>\n      <td>Burundi</td>\n      <td>1.132101e+09</td>\n      <td>1.167398e+09</td>\n      <td>1.083038e+09</td>\n      <td>9.386326e+08</td>\n      <td>9.250306e+08</td>\n      <td>1.000428e+09</td>\n      <td>8.690339e+08</td>\n      <td>9.728963e+08</td>\n      <td>8.937708e+08</td>\n      <td>...</td>\n      <td>1.611836e+09</td>\n      <td>1.781455e+09</td>\n      <td>2.032135e+09</td>\n      <td>2.235821e+09</td>\n      <td>2.333308e+09</td>\n      <td>2.451625e+09</td>\n      <td>2.705783e+09</td>\n      <td>3.104395e+09</td>\n      <td>2.959185e+09</td>\n      <td>3.172416e+09</td>\n    </tr>\n    <tr>\n      <th>3</th>\n      <td>Belgium</td>\n      <td>2.064310e+11</td>\n      <td>2.116380e+11</td>\n      <td>2.360380e+11</td>\n      <td>2.259250e+11</td>\n      <td>2.461950e+11</td>\n      <td>2.895670e+11</td>\n      <td>2.813580e+11</td>\n      <td>2.548140e+11</td>\n      <td>2.606020e+11</td>\n      <td>...</td>\n      <td>5.186260e+11</td>\n      <td>4.845530e+11</td>\n      <td>4.835480e+11</td>\n      <td>5.270080e+11</td>\n      <td>4.978840e+11</td>\n      <td>5.209250e+11</td>\n      <td>5.307710e+11</td>\n      <td>4.550400e+11</td>\n      <td>4.675460e+11</td>\n      <td>4.926810e+11</td>\n    </tr>\n    <tr>\n      <th>4</th>\n      <td>Benin</td>\n      <td>1.959965e+09</td>\n      <td>1.986438e+09</td>\n      <td>1.695315e+09</td>\n      <td>2.274558e+09</td>\n      <td>1.598076e+09</td>\n      <td>2.169627e+09</td>\n      <td>2.361117e+09</td>\n      <td>2.268302e+09</td>\n      <td>2.455093e+09</td>\n      <td>...</td>\n      <td>7.132787e+09</td>\n      <td>7.097199e+09</td>\n      <td>6.970241e+09</td>\n      <td>7.814081e+09</td>\n      <td>8.152554e+09</td>\n      <td>9.157356e+09</td>\n      <td>9.707432e+09</td>\n      <td>8.291156e+09</td>\n      <td>8.573160e+09</td>\n      <td>9.246697e+09</td>\n    </tr>\n  </tbody>\n</table>\n<p>5 rows × 29 columns</p>\n</div>"
     },
     "metadata": {},
     "execution_count": 3
    }
   ],
   "source": [
    "gdp = \"clean_gdp_file.csv\"\n",
    "gdp_df = pd.read_csv(gdp)\n",
    "gdp_df.head()"
   ]
  },
  {
   "cell_type": "code",
   "execution_count": 4,
   "metadata": {},
   "outputs": [
    {
     "output_type": "execute_result",
     "data": {
      "text/plain": "                Country  1990 (Spend)  1991 (Spend)  1992 (Spend)  \\\n0           Afghanistan           NaN           NaN           NaN   \n1                Angola  1.751153e+09  1.031248e+09  7.941388e+08   \n2               Albania           NaN           NaN  3.155966e+07   \n3            Arab World  3.651229e+10  4.103510e+10  3.281075e+10   \n4  United Arab Emirates           NaN           NaN           NaN   \n\n   1993 (Spend)  1994 (Spend)  1995 (Spend)  1996 (Spend)  1997 (Spend)  \\\n0           NaN           NaN           NaN           NaN           NaN   \n1  1.774398e+09  5.949912e+08  2.338437e+08  1.597419e+08  4.567805e+08   \n2  3.928984e+07  4.964950e+07  5.090752e+07  4.571336e+07  2.982549e+07   \n3  2.960635e+10  2.941337e+10  2.668432e+10  2.648612e+10  3.548406e+10   \n4           NaN           NaN           NaN           NaN  3.335767e+09   \n\n   1998 (Spend)  ...  2009 (Spend)  2010 (Spend)  2011 (Spend)  2012 (Spend)  \\\n0           NaN  ...  2.518695e+08  2.981469e+08  3.258070e+08  2.385834e+08   \n1  1.702783e+08  ...  3.311193e+09  3.500795e+09  3.639496e+09  4.144635e+09   \n2  3.363805e+07  ...  1.827369e+08  1.858932e+08  1.970068e+08  1.832047e+08   \n3  3.932270e+10  ...  9.150404e+10  9.797637e+10  1.080000e+11  1.220000e+11   \n4  4.010347e+09  ...  1.383635e+10  1.750470e+10  1.918176e+10  1.902410e+10   \n\n   2013 (Spend)  2014 (Spend)  2015 (Spend)  2016 (Spend)  2017 (Spend)  \\\n0  2.171941e+08  2.682271e+08  1.995186e+08  1.858783e+08  1.914071e+08   \n1  6.090752e+09  6.841864e+09  3.608299e+09  2.764055e+09  3.062873e+09   \n2  1.800155e+08  1.781204e+08  1.323507e+08  1.308532e+08  1.443827e+08   \n3  1.430000e+11  1.550000e+11  1.380000e+11  1.120000e+11  1.190000e+11   \n4  2.356106e+10  2.275507e+10           NaN           NaN           NaN   \n\n   2018 (Spend)  \n0  1.980863e+08  \n1  1.983614e+09  \n2  1.804887e+08  \n3  1.130000e+11  \n4           NaN  \n\n[5 rows x 30 columns]",
      "text/html": "<div>\n<style scoped>\n    .dataframe tbody tr th:only-of-type {\n        vertical-align: middle;\n    }\n\n    .dataframe tbody tr th {\n        vertical-align: top;\n    }\n\n    .dataframe thead th {\n        text-align: right;\n    }\n</style>\n<table border=\"1\" class=\"dataframe\">\n  <thead>\n    <tr style=\"text-align: right;\">\n      <th></th>\n      <th>Country</th>\n      <th>1990 (Spend)</th>\n      <th>1991 (Spend)</th>\n      <th>1992 (Spend)</th>\n      <th>1993 (Spend)</th>\n      <th>1994 (Spend)</th>\n      <th>1995 (Spend)</th>\n      <th>1996 (Spend)</th>\n      <th>1997 (Spend)</th>\n      <th>1998 (Spend)</th>\n      <th>...</th>\n      <th>2009 (Spend)</th>\n      <th>2010 (Spend)</th>\n      <th>2011 (Spend)</th>\n      <th>2012 (Spend)</th>\n      <th>2013 (Spend)</th>\n      <th>2014 (Spend)</th>\n      <th>2015 (Spend)</th>\n      <th>2016 (Spend)</th>\n      <th>2017 (Spend)</th>\n      <th>2018 (Spend)</th>\n    </tr>\n  </thead>\n  <tbody>\n    <tr>\n      <th>0</th>\n      <td>Afghanistan</td>\n      <td>NaN</td>\n      <td>NaN</td>\n      <td>NaN</td>\n      <td>NaN</td>\n      <td>NaN</td>\n      <td>NaN</td>\n      <td>NaN</td>\n      <td>NaN</td>\n      <td>NaN</td>\n      <td>...</td>\n      <td>2.518695e+08</td>\n      <td>2.981469e+08</td>\n      <td>3.258070e+08</td>\n      <td>2.385834e+08</td>\n      <td>2.171941e+08</td>\n      <td>2.682271e+08</td>\n      <td>1.995186e+08</td>\n      <td>1.858783e+08</td>\n      <td>1.914071e+08</td>\n      <td>1.980863e+08</td>\n    </tr>\n    <tr>\n      <th>1</th>\n      <td>Angola</td>\n      <td>1.751153e+09</td>\n      <td>1.031248e+09</td>\n      <td>7.941388e+08</td>\n      <td>1.774398e+09</td>\n      <td>5.949912e+08</td>\n      <td>2.338437e+08</td>\n      <td>1.597419e+08</td>\n      <td>4.567805e+08</td>\n      <td>1.702783e+08</td>\n      <td>...</td>\n      <td>3.311193e+09</td>\n      <td>3.500795e+09</td>\n      <td>3.639496e+09</td>\n      <td>4.144635e+09</td>\n      <td>6.090752e+09</td>\n      <td>6.841864e+09</td>\n      <td>3.608299e+09</td>\n      <td>2.764055e+09</td>\n      <td>3.062873e+09</td>\n      <td>1.983614e+09</td>\n    </tr>\n    <tr>\n      <th>2</th>\n      <td>Albania</td>\n      <td>NaN</td>\n      <td>NaN</td>\n      <td>3.155966e+07</td>\n      <td>3.928984e+07</td>\n      <td>4.964950e+07</td>\n      <td>5.090752e+07</td>\n      <td>4.571336e+07</td>\n      <td>2.982549e+07</td>\n      <td>3.363805e+07</td>\n      <td>...</td>\n      <td>1.827369e+08</td>\n      <td>1.858932e+08</td>\n      <td>1.970068e+08</td>\n      <td>1.832047e+08</td>\n      <td>1.800155e+08</td>\n      <td>1.781204e+08</td>\n      <td>1.323507e+08</td>\n      <td>1.308532e+08</td>\n      <td>1.443827e+08</td>\n      <td>1.804887e+08</td>\n    </tr>\n    <tr>\n      <th>3</th>\n      <td>Arab World</td>\n      <td>3.651229e+10</td>\n      <td>4.103510e+10</td>\n      <td>3.281075e+10</td>\n      <td>2.960635e+10</td>\n      <td>2.941337e+10</td>\n      <td>2.668432e+10</td>\n      <td>2.648612e+10</td>\n      <td>3.548406e+10</td>\n      <td>3.932270e+10</td>\n      <td>...</td>\n      <td>9.150404e+10</td>\n      <td>9.797637e+10</td>\n      <td>1.080000e+11</td>\n      <td>1.220000e+11</td>\n      <td>1.430000e+11</td>\n      <td>1.550000e+11</td>\n      <td>1.380000e+11</td>\n      <td>1.120000e+11</td>\n      <td>1.190000e+11</td>\n      <td>1.130000e+11</td>\n    </tr>\n    <tr>\n      <th>4</th>\n      <td>United Arab Emirates</td>\n      <td>NaN</td>\n      <td>NaN</td>\n      <td>NaN</td>\n      <td>NaN</td>\n      <td>NaN</td>\n      <td>NaN</td>\n      <td>NaN</td>\n      <td>3.335767e+09</td>\n      <td>4.010347e+09</td>\n      <td>...</td>\n      <td>1.383635e+10</td>\n      <td>1.750470e+10</td>\n      <td>1.918176e+10</td>\n      <td>1.902410e+10</td>\n      <td>2.356106e+10</td>\n      <td>2.275507e+10</td>\n      <td>NaN</td>\n      <td>NaN</td>\n      <td>NaN</td>\n      <td>NaN</td>\n    </tr>\n  </tbody>\n</table>\n<p>5 rows × 30 columns</p>\n</div>"
     },
     "metadata": {},
     "execution_count": 4
    }
   ],
   "source": [
    "spending = \"cleanspending.csv\"\n",
    "spending_df = pd.read_csv(spending)\n",
    "spending_df.head()"
   ]
  },
  {
   "cell_type": "code",
   "execution_count": 5,
   "metadata": {},
   "outputs": [],
   "source": [
    "connection_string = \"postgres:Charlie109:)@localhost:5432/military_spending\"\n",
    "engine = create_engine(f'postgresql://{connection_string}')"
   ]
  },
  {
   "cell_type": "code",
   "execution_count": null,
   "metadata": {},
   "outputs": [],
   "source": []
  },
  {
   "cell_type": "code",
   "execution_count": null,
   "metadata": {},
   "outputs": [],
   "source": []
  },
  {
   "cell_type": "code",
   "execution_count": null,
   "metadata": {},
   "outputs": [],
   "source": []
  },
  {
   "cell_type": "code",
   "execution_count": null,
   "metadata": {},
   "outputs": [],
   "source": []
  },
  {
   "cell_type": "code",
   "execution_count": null,
   "metadata": {},
   "outputs": [],
   "source": []
  },
  {
   "cell_type": "code",
   "execution_count": null,
   "metadata": {},
   "outputs": [],
   "source": []
  },
  {
   "cell_type": "code",
   "execution_count": null,
   "metadata": {},
   "outputs": [],
   "source": []
  },
  {
   "cell_type": "code",
   "execution_count": null,
   "metadata": {},
   "outputs": [],
   "source": []
  },
  {
   "cell_type": "code",
   "execution_count": null,
   "metadata": {},
   "outputs": [],
   "source": []
  },
  {
   "cell_type": "code",
   "execution_count": null,
   "metadata": {},
   "outputs": [],
   "source": []
  },
  {
   "cell_type": "code",
   "execution_count": 6,
   "metadata": {},
   "outputs": [
    {
     "output_type": "execute_result",
     "data": {
      "text/plain": "['population', 'spending', 'gdp']"
     },
     "metadata": {},
     "execution_count": 6
    }
   ],
   "source": [
    "engine.table_names() "
   ]
  },
  {
   "cell_type": "code",
   "execution_count": 9,
   "metadata": {},
   "outputs": [
    {
     "output_type": "error",
     "ename": "KeyError",
     "evalue": "'1990 (GDP'",
     "traceback": [
      "\u001b[1;31m---------------------------------------------------------------------------\u001b[0m",
      "\u001b[1;31mKeyError\u001b[0m                                  Traceback (most recent call last)",
      "\u001b[1;32m<ipython-input-9-eb172fa3da41>\u001b[0m in \u001b[0;36m<module>\u001b[1;34m\u001b[0m\n\u001b[1;32m----> 1\u001b[1;33m \u001b[0mgdp_df\u001b[0m\u001b[1;33m.\u001b[0m\u001b[0mto_sql\u001b[0m\u001b[1;33m(\u001b[0m\u001b[0mname\u001b[0m\u001b[1;33m=\u001b[0m\u001b[1;34m'population'\u001b[0m\u001b[1;33m,\u001b[0m \u001b[0mcon\u001b[0m\u001b[1;33m=\u001b[0m\u001b[0mengine\u001b[0m\u001b[1;33m,\u001b[0m \u001b[0mif_exists\u001b[0m\u001b[1;33m=\u001b[0m\u001b[1;34m'append'\u001b[0m\u001b[1;33m,\u001b[0m \u001b[0mindex\u001b[0m\u001b[1;33m=\u001b[0m\u001b[1;32mTrue\u001b[0m\u001b[1;33m)\u001b[0m\u001b[1;33m\u001b[0m\u001b[1;33m\u001b[0m\u001b[0m\n\u001b[0m",
      "\u001b[1;32m~\\anaconda3\\lib\\site-packages\\pandas\\core\\generic.py\u001b[0m in \u001b[0;36mto_sql\u001b[1;34m(self, name, con, schema, if_exists, index, index_label, chunksize, dtype, method)\u001b[0m\n\u001b[0;32m   2661\u001b[0m             \u001b[0mchunksize\u001b[0m\u001b[1;33m=\u001b[0m\u001b[0mchunksize\u001b[0m\u001b[1;33m,\u001b[0m\u001b[1;33m\u001b[0m\u001b[1;33m\u001b[0m\u001b[0m\n\u001b[0;32m   2662\u001b[0m             \u001b[0mdtype\u001b[0m\u001b[1;33m=\u001b[0m\u001b[0mdtype\u001b[0m\u001b[1;33m,\u001b[0m\u001b[1;33m\u001b[0m\u001b[1;33m\u001b[0m\u001b[0m\n\u001b[1;32m-> 2663\u001b[1;33m             \u001b[0mmethod\u001b[0m\u001b[1;33m=\u001b[0m\u001b[0mmethod\u001b[0m\u001b[1;33m,\u001b[0m\u001b[1;33m\u001b[0m\u001b[1;33m\u001b[0m\u001b[0m\n\u001b[0m\u001b[0;32m   2664\u001b[0m         )\n\u001b[0;32m   2665\u001b[0m \u001b[1;33m\u001b[0m\u001b[0m\n",
      "\u001b[1;32m~\\anaconda3\\lib\\site-packages\\pandas\\io\\sql.py\u001b[0m in \u001b[0;36mto_sql\u001b[1;34m(frame, name, con, schema, if_exists, index, index_label, chunksize, dtype, method)\u001b[0m\n\u001b[0;32m    519\u001b[0m         \u001b[0mchunksize\u001b[0m\u001b[1;33m=\u001b[0m\u001b[0mchunksize\u001b[0m\u001b[1;33m,\u001b[0m\u001b[1;33m\u001b[0m\u001b[1;33m\u001b[0m\u001b[0m\n\u001b[0;32m    520\u001b[0m         \u001b[0mdtype\u001b[0m\u001b[1;33m=\u001b[0m\u001b[0mdtype\u001b[0m\u001b[1;33m,\u001b[0m\u001b[1;33m\u001b[0m\u001b[1;33m\u001b[0m\u001b[0m\n\u001b[1;32m--> 521\u001b[1;33m         \u001b[0mmethod\u001b[0m\u001b[1;33m=\u001b[0m\u001b[0mmethod\u001b[0m\u001b[1;33m,\u001b[0m\u001b[1;33m\u001b[0m\u001b[1;33m\u001b[0m\u001b[0m\n\u001b[0m\u001b[0;32m    522\u001b[0m     )\n\u001b[0;32m    523\u001b[0m \u001b[1;33m\u001b[0m\u001b[0m\n",
      "\u001b[1;32m~\\anaconda3\\lib\\site-packages\\pandas\\io\\sql.py\u001b[0m in \u001b[0;36mto_sql\u001b[1;34m(self, frame, name, if_exists, index, index_label, schema, chunksize, dtype, method)\u001b[0m\n\u001b[0;32m   1315\u001b[0m         )\n\u001b[0;32m   1316\u001b[0m         \u001b[0mtable\u001b[0m\u001b[1;33m.\u001b[0m\u001b[0mcreate\u001b[0m\u001b[1;33m(\u001b[0m\u001b[1;33m)\u001b[0m\u001b[1;33m\u001b[0m\u001b[1;33m\u001b[0m\u001b[0m\n\u001b[1;32m-> 1317\u001b[1;33m         \u001b[0mtable\u001b[0m\u001b[1;33m.\u001b[0m\u001b[0minsert\u001b[0m\u001b[1;33m(\u001b[0m\u001b[0mchunksize\u001b[0m\u001b[1;33m,\u001b[0m \u001b[0mmethod\u001b[0m\u001b[1;33m=\u001b[0m\u001b[0mmethod\u001b[0m\u001b[1;33m)\u001b[0m\u001b[1;33m\u001b[0m\u001b[1;33m\u001b[0m\u001b[0m\n\u001b[0m\u001b[0;32m   1318\u001b[0m         \u001b[1;32mif\u001b[0m \u001b[1;32mnot\u001b[0m \u001b[0mname\u001b[0m\u001b[1;33m.\u001b[0m\u001b[0misdigit\u001b[0m\u001b[1;33m(\u001b[0m\u001b[1;33m)\u001b[0m \u001b[1;32mand\u001b[0m \u001b[1;32mnot\u001b[0m \u001b[0mname\u001b[0m\u001b[1;33m.\u001b[0m\u001b[0mislower\u001b[0m\u001b[1;33m(\u001b[0m\u001b[1;33m)\u001b[0m\u001b[1;33m:\u001b[0m\u001b[1;33m\u001b[0m\u001b[1;33m\u001b[0m\u001b[0m\n\u001b[0;32m   1319\u001b[0m             \u001b[1;31m# check for potentially case sensitivity issues (GH7815)\u001b[0m\u001b[1;33m\u001b[0m\u001b[1;33m\u001b[0m\u001b[1;33m\u001b[0m\u001b[0m\n",
      "\u001b[1;32m~\\anaconda3\\lib\\site-packages\\pandas\\io\\sql.py\u001b[0m in \u001b[0;36minsert\u001b[1;34m(self, chunksize, method)\u001b[0m\n\u001b[0;32m    753\u001b[0m \u001b[1;33m\u001b[0m\u001b[0m\n\u001b[0;32m    754\u001b[0m                 \u001b[0mchunk_iter\u001b[0m \u001b[1;33m=\u001b[0m \u001b[0mzip\u001b[0m\u001b[1;33m(\u001b[0m\u001b[1;33m*\u001b[0m\u001b[1;33m[\u001b[0m\u001b[0marr\u001b[0m\u001b[1;33m[\u001b[0m\u001b[0mstart_i\u001b[0m\u001b[1;33m:\u001b[0m\u001b[0mend_i\u001b[0m\u001b[1;33m]\u001b[0m \u001b[1;32mfor\u001b[0m \u001b[0marr\u001b[0m \u001b[1;32min\u001b[0m \u001b[0mdata_list\u001b[0m\u001b[1;33m]\u001b[0m\u001b[1;33m)\u001b[0m\u001b[1;33m\u001b[0m\u001b[1;33m\u001b[0m\u001b[0m\n\u001b[1;32m--> 755\u001b[1;33m                 \u001b[0mexec_insert\u001b[0m\u001b[1;33m(\u001b[0m\u001b[0mconn\u001b[0m\u001b[1;33m,\u001b[0m \u001b[0mkeys\u001b[0m\u001b[1;33m,\u001b[0m \u001b[0mchunk_iter\u001b[0m\u001b[1;33m)\u001b[0m\u001b[1;33m\u001b[0m\u001b[1;33m\u001b[0m\u001b[0m\n\u001b[0m\u001b[0;32m    756\u001b[0m \u001b[1;33m\u001b[0m\u001b[0m\n\u001b[0;32m    757\u001b[0m     def _query_iterator(\n",
      "\u001b[1;32m~\\anaconda3\\lib\\site-packages\\pandas\\io\\sql.py\u001b[0m in \u001b[0;36m_execute_insert\u001b[1;34m(self, conn, keys, data_iter)\u001b[0m\n\u001b[0;32m    667\u001b[0m         \"\"\"\n\u001b[0;32m    668\u001b[0m         \u001b[0mdata\u001b[0m \u001b[1;33m=\u001b[0m \u001b[1;33m[\u001b[0m\u001b[0mdict\u001b[0m\u001b[1;33m(\u001b[0m\u001b[0mzip\u001b[0m\u001b[1;33m(\u001b[0m\u001b[0mkeys\u001b[0m\u001b[1;33m,\u001b[0m \u001b[0mrow\u001b[0m\u001b[1;33m)\u001b[0m\u001b[1;33m)\u001b[0m \u001b[1;32mfor\u001b[0m \u001b[0mrow\u001b[0m \u001b[1;32min\u001b[0m \u001b[0mdata_iter\u001b[0m\u001b[1;33m]\u001b[0m\u001b[1;33m\u001b[0m\u001b[1;33m\u001b[0m\u001b[0m\n\u001b[1;32m--> 669\u001b[1;33m         \u001b[0mconn\u001b[0m\u001b[1;33m.\u001b[0m\u001b[0mexecute\u001b[0m\u001b[1;33m(\u001b[0m\u001b[0mself\u001b[0m\u001b[1;33m.\u001b[0m\u001b[0mtable\u001b[0m\u001b[1;33m.\u001b[0m\u001b[0minsert\u001b[0m\u001b[1;33m(\u001b[0m\u001b[1;33m)\u001b[0m\u001b[1;33m,\u001b[0m \u001b[0mdata\u001b[0m\u001b[1;33m)\u001b[0m\u001b[1;33m\u001b[0m\u001b[1;33m\u001b[0m\u001b[0m\n\u001b[0m\u001b[0;32m    670\u001b[0m \u001b[1;33m\u001b[0m\u001b[0m\n\u001b[0;32m    671\u001b[0m     \u001b[1;32mdef\u001b[0m \u001b[0m_execute_insert_multi\u001b[0m\u001b[1;33m(\u001b[0m\u001b[0mself\u001b[0m\u001b[1;33m,\u001b[0m \u001b[0mconn\u001b[0m\u001b[1;33m,\u001b[0m \u001b[0mkeys\u001b[0m\u001b[1;33m,\u001b[0m \u001b[0mdata_iter\u001b[0m\u001b[1;33m)\u001b[0m\u001b[1;33m:\u001b[0m\u001b[1;33m\u001b[0m\u001b[1;33m\u001b[0m\u001b[0m\n",
      "\u001b[1;32m~\\anaconda3\\lib\\site-packages\\sqlalchemy\\engine\\base.py\u001b[0m in \u001b[0;36mexecute\u001b[1;34m(self, object_, *multiparams, **params)\u001b[0m\n\u001b[0;32m    980\u001b[0m             \u001b[1;32mraise\u001b[0m \u001b[0mexc\u001b[0m\u001b[1;33m.\u001b[0m\u001b[0mObjectNotExecutableError\u001b[0m\u001b[1;33m(\u001b[0m\u001b[0mobject_\u001b[0m\u001b[1;33m)\u001b[0m\u001b[1;33m\u001b[0m\u001b[1;33m\u001b[0m\u001b[0m\n\u001b[0;32m    981\u001b[0m         \u001b[1;32melse\u001b[0m\u001b[1;33m:\u001b[0m\u001b[1;33m\u001b[0m\u001b[1;33m\u001b[0m\u001b[0m\n\u001b[1;32m--> 982\u001b[1;33m             \u001b[1;32mreturn\u001b[0m \u001b[0mmeth\u001b[0m\u001b[1;33m(\u001b[0m\u001b[0mself\u001b[0m\u001b[1;33m,\u001b[0m \u001b[0mmultiparams\u001b[0m\u001b[1;33m,\u001b[0m \u001b[0mparams\u001b[0m\u001b[1;33m)\u001b[0m\u001b[1;33m\u001b[0m\u001b[1;33m\u001b[0m\u001b[0m\n\u001b[0m\u001b[0;32m    983\u001b[0m \u001b[1;33m\u001b[0m\u001b[0m\n\u001b[0;32m    984\u001b[0m     \u001b[1;32mdef\u001b[0m \u001b[0m_execute_function\u001b[0m\u001b[1;33m(\u001b[0m\u001b[0mself\u001b[0m\u001b[1;33m,\u001b[0m \u001b[0mfunc\u001b[0m\u001b[1;33m,\u001b[0m \u001b[0mmultiparams\u001b[0m\u001b[1;33m,\u001b[0m \u001b[0mparams\u001b[0m\u001b[1;33m)\u001b[0m\u001b[1;33m:\u001b[0m\u001b[1;33m\u001b[0m\u001b[1;33m\u001b[0m\u001b[0m\n",
      "\u001b[1;32m~\\anaconda3\\lib\\site-packages\\sqlalchemy\\sql\\elements.py\u001b[0m in \u001b[0;36m_execute_on_connection\u001b[1;34m(self, connection, multiparams, params)\u001b[0m\n\u001b[0;32m    291\u001b[0m     \u001b[1;32mdef\u001b[0m \u001b[0m_execute_on_connection\u001b[0m\u001b[1;33m(\u001b[0m\u001b[0mself\u001b[0m\u001b[1;33m,\u001b[0m \u001b[0mconnection\u001b[0m\u001b[1;33m,\u001b[0m \u001b[0mmultiparams\u001b[0m\u001b[1;33m,\u001b[0m \u001b[0mparams\u001b[0m\u001b[1;33m)\u001b[0m\u001b[1;33m:\u001b[0m\u001b[1;33m\u001b[0m\u001b[1;33m\u001b[0m\u001b[0m\n\u001b[0;32m    292\u001b[0m         \u001b[1;32mif\u001b[0m \u001b[0mself\u001b[0m\u001b[1;33m.\u001b[0m\u001b[0msupports_execution\u001b[0m\u001b[1;33m:\u001b[0m\u001b[1;33m\u001b[0m\u001b[1;33m\u001b[0m\u001b[0m\n\u001b[1;32m--> 293\u001b[1;33m             \u001b[1;32mreturn\u001b[0m \u001b[0mconnection\u001b[0m\u001b[1;33m.\u001b[0m\u001b[0m_execute_clauseelement\u001b[0m\u001b[1;33m(\u001b[0m\u001b[0mself\u001b[0m\u001b[1;33m,\u001b[0m \u001b[0mmultiparams\u001b[0m\u001b[1;33m,\u001b[0m \u001b[0mparams\u001b[0m\u001b[1;33m)\u001b[0m\u001b[1;33m\u001b[0m\u001b[1;33m\u001b[0m\u001b[0m\n\u001b[0m\u001b[0;32m    294\u001b[0m         \u001b[1;32melse\u001b[0m\u001b[1;33m:\u001b[0m\u001b[1;33m\u001b[0m\u001b[1;33m\u001b[0m\u001b[0m\n\u001b[0;32m    295\u001b[0m             \u001b[1;32mraise\u001b[0m \u001b[0mexc\u001b[0m\u001b[1;33m.\u001b[0m\u001b[0mObjectNotExecutableError\u001b[0m\u001b[1;33m(\u001b[0m\u001b[0mself\u001b[0m\u001b[1;33m)\u001b[0m\u001b[1;33m\u001b[0m\u001b[1;33m\u001b[0m\u001b[0m\n",
      "\u001b[1;32m~\\anaconda3\\lib\\site-packages\\sqlalchemy\\engine\\base.py\u001b[0m in \u001b[0;36m_execute_clauseelement\u001b[1;34m(self, elem, multiparams, params)\u001b[0m\n\u001b[0;32m   1099\u001b[0m             \u001b[0mdistilled_params\u001b[0m\u001b[1;33m,\u001b[0m\u001b[1;33m\u001b[0m\u001b[1;33m\u001b[0m\u001b[0m\n\u001b[0;32m   1100\u001b[0m             \u001b[0mcompiled_sql\u001b[0m\u001b[1;33m,\u001b[0m\u001b[1;33m\u001b[0m\u001b[1;33m\u001b[0m\u001b[0m\n\u001b[1;32m-> 1101\u001b[1;33m             \u001b[0mdistilled_params\u001b[0m\u001b[1;33m,\u001b[0m\u001b[1;33m\u001b[0m\u001b[1;33m\u001b[0m\u001b[0m\n\u001b[0m\u001b[0;32m   1102\u001b[0m         )\n\u001b[0;32m   1103\u001b[0m         \u001b[1;32mif\u001b[0m \u001b[0mself\u001b[0m\u001b[1;33m.\u001b[0m\u001b[0m_has_events\u001b[0m \u001b[1;32mor\u001b[0m \u001b[0mself\u001b[0m\u001b[1;33m.\u001b[0m\u001b[0mengine\u001b[0m\u001b[1;33m.\u001b[0m\u001b[0m_has_events\u001b[0m\u001b[1;33m:\u001b[0m\u001b[1;33m\u001b[0m\u001b[1;33m\u001b[0m\u001b[0m\n",
      "\u001b[1;32m~\\anaconda3\\lib\\site-packages\\sqlalchemy\\engine\\base.py\u001b[0m in \u001b[0;36m_execute_context\u001b[1;34m(self, dialect, constructor, statement, parameters, *args)\u001b[0m\n\u001b[0;32m   1248\u001b[0m         \u001b[1;32mexcept\u001b[0m \u001b[0mBaseException\u001b[0m \u001b[1;32mas\u001b[0m \u001b[0me\u001b[0m\u001b[1;33m:\u001b[0m\u001b[1;33m\u001b[0m\u001b[1;33m\u001b[0m\u001b[0m\n\u001b[0;32m   1249\u001b[0m             self._handle_dbapi_exception(\n\u001b[1;32m-> 1250\u001b[1;33m                 \u001b[0me\u001b[0m\u001b[1;33m,\u001b[0m \u001b[0mstatement\u001b[0m\u001b[1;33m,\u001b[0m \u001b[0mparameters\u001b[0m\u001b[1;33m,\u001b[0m \u001b[0mcursor\u001b[0m\u001b[1;33m,\u001b[0m \u001b[0mcontext\u001b[0m\u001b[1;33m\u001b[0m\u001b[1;33m\u001b[0m\u001b[0m\n\u001b[0m\u001b[0;32m   1251\u001b[0m             )\n\u001b[0;32m   1252\u001b[0m \u001b[1;33m\u001b[0m\u001b[0m\n",
      "\u001b[1;32m~\\anaconda3\\lib\\site-packages\\sqlalchemy\\engine\\base.py\u001b[0m in \u001b[0;36m_handle_dbapi_exception\u001b[1;34m(self, e, statement, parameters, cursor, context)\u001b[0m\n\u001b[0;32m   1476\u001b[0m                 \u001b[0mutil\u001b[0m\u001b[1;33m.\u001b[0m\u001b[0mraise_from_cause\u001b[0m\u001b[1;33m(\u001b[0m\u001b[0msqlalchemy_exception\u001b[0m\u001b[1;33m,\u001b[0m \u001b[0mexc_info\u001b[0m\u001b[1;33m)\u001b[0m\u001b[1;33m\u001b[0m\u001b[1;33m\u001b[0m\u001b[0m\n\u001b[0;32m   1477\u001b[0m             \u001b[1;32melse\u001b[0m\u001b[1;33m:\u001b[0m\u001b[1;33m\u001b[0m\u001b[1;33m\u001b[0m\u001b[0m\n\u001b[1;32m-> 1478\u001b[1;33m                 \u001b[0mutil\u001b[0m\u001b[1;33m.\u001b[0m\u001b[0mreraise\u001b[0m\u001b[1;33m(\u001b[0m\u001b[1;33m*\u001b[0m\u001b[0mexc_info\u001b[0m\u001b[1;33m)\u001b[0m\u001b[1;33m\u001b[0m\u001b[1;33m\u001b[0m\u001b[0m\n\u001b[0m\u001b[0;32m   1479\u001b[0m \u001b[1;33m\u001b[0m\u001b[0m\n\u001b[0;32m   1480\u001b[0m         \u001b[1;32mfinally\u001b[0m\u001b[1;33m:\u001b[0m\u001b[1;33m\u001b[0m\u001b[1;33m\u001b[0m\u001b[0m\n",
      "\u001b[1;32m~\\anaconda3\\lib\\site-packages\\sqlalchemy\\util\\compat.py\u001b[0m in \u001b[0;36mreraise\u001b[1;34m(tp, value, tb, cause)\u001b[0m\n\u001b[0;32m    151\u001b[0m         \u001b[1;32mif\u001b[0m \u001b[0mvalue\u001b[0m\u001b[1;33m.\u001b[0m\u001b[0m__traceback__\u001b[0m \u001b[1;32mis\u001b[0m \u001b[1;32mnot\u001b[0m \u001b[0mtb\u001b[0m\u001b[1;33m:\u001b[0m\u001b[1;33m\u001b[0m\u001b[1;33m\u001b[0m\u001b[0m\n\u001b[0;32m    152\u001b[0m             \u001b[1;32mraise\u001b[0m \u001b[0mvalue\u001b[0m\u001b[1;33m.\u001b[0m\u001b[0mwith_traceback\u001b[0m\u001b[1;33m(\u001b[0m\u001b[0mtb\u001b[0m\u001b[1;33m)\u001b[0m\u001b[1;33m\u001b[0m\u001b[1;33m\u001b[0m\u001b[0m\n\u001b[1;32m--> 153\u001b[1;33m         \u001b[1;32mraise\u001b[0m \u001b[0mvalue\u001b[0m\u001b[1;33m\u001b[0m\u001b[1;33m\u001b[0m\u001b[0m\n\u001b[0m\u001b[0;32m    154\u001b[0m \u001b[1;33m\u001b[0m\u001b[0m\n\u001b[0;32m    155\u001b[0m     \u001b[1;32mdef\u001b[0m \u001b[0mu\u001b[0m\u001b[1;33m(\u001b[0m\u001b[0ms\u001b[0m\u001b[1;33m)\u001b[0m\u001b[1;33m:\u001b[0m\u001b[1;33m\u001b[0m\u001b[1;33m\u001b[0m\u001b[0m\n",
      "\u001b[1;32m~\\anaconda3\\lib\\site-packages\\sqlalchemy\\engine\\base.py\u001b[0m in \u001b[0;36m_execute_context\u001b[1;34m(self, dialect, constructor, statement, parameters, *args)\u001b[0m\n\u001b[0;32m   1224\u001b[0m                 \u001b[1;32mif\u001b[0m \u001b[1;32mnot\u001b[0m \u001b[0mevt_handled\u001b[0m\u001b[1;33m:\u001b[0m\u001b[1;33m\u001b[0m\u001b[1;33m\u001b[0m\u001b[0m\n\u001b[0;32m   1225\u001b[0m                     self.dialect.do_executemany(\n\u001b[1;32m-> 1226\u001b[1;33m                         \u001b[0mcursor\u001b[0m\u001b[1;33m,\u001b[0m \u001b[0mstatement\u001b[0m\u001b[1;33m,\u001b[0m \u001b[0mparameters\u001b[0m\u001b[1;33m,\u001b[0m \u001b[0mcontext\u001b[0m\u001b[1;33m\u001b[0m\u001b[1;33m\u001b[0m\u001b[0m\n\u001b[0m\u001b[0;32m   1227\u001b[0m                     )\n\u001b[0;32m   1228\u001b[0m             \u001b[1;32melif\u001b[0m \u001b[1;32mnot\u001b[0m \u001b[0mparameters\u001b[0m \u001b[1;32mand\u001b[0m \u001b[0mcontext\u001b[0m\u001b[1;33m.\u001b[0m\u001b[0mno_parameters\u001b[0m\u001b[1;33m:\u001b[0m\u001b[1;33m\u001b[0m\u001b[1;33m\u001b[0m\u001b[0m\n",
      "\u001b[1;32m~\\anaconda3\\lib\\site-packages\\sqlalchemy\\dialects\\postgresql\\psycopg2.py\u001b[0m in \u001b[0;36mdo_executemany\u001b[1;34m(self, cursor, statement, parameters, context)\u001b[0m\n\u001b[0;32m    852\u001b[0m     \u001b[1;32mdef\u001b[0m \u001b[0mdo_executemany\u001b[0m\u001b[1;33m(\u001b[0m\u001b[0mself\u001b[0m\u001b[1;33m,\u001b[0m \u001b[0mcursor\u001b[0m\u001b[1;33m,\u001b[0m \u001b[0mstatement\u001b[0m\u001b[1;33m,\u001b[0m \u001b[0mparameters\u001b[0m\u001b[1;33m,\u001b[0m \u001b[0mcontext\u001b[0m\u001b[1;33m=\u001b[0m\u001b[1;32mNone\u001b[0m\u001b[1;33m)\u001b[0m\u001b[1;33m:\u001b[0m\u001b[1;33m\u001b[0m\u001b[1;33m\u001b[0m\u001b[0m\n\u001b[0;32m    853\u001b[0m         \u001b[1;32mif\u001b[0m \u001b[0mself\u001b[0m\u001b[1;33m.\u001b[0m\u001b[0mexecutemany_mode\u001b[0m \u001b[1;32mis\u001b[0m \u001b[0mEXECUTEMANY_DEFAULT\u001b[0m\u001b[1;33m:\u001b[0m\u001b[1;33m\u001b[0m\u001b[1;33m\u001b[0m\u001b[0m\n\u001b[1;32m--> 854\u001b[1;33m             \u001b[0mcursor\u001b[0m\u001b[1;33m.\u001b[0m\u001b[0mexecutemany\u001b[0m\u001b[1;33m(\u001b[0m\u001b[0mstatement\u001b[0m\u001b[1;33m,\u001b[0m \u001b[0mparameters\u001b[0m\u001b[1;33m)\u001b[0m\u001b[1;33m\u001b[0m\u001b[1;33m\u001b[0m\u001b[0m\n\u001b[0m\u001b[0;32m    855\u001b[0m             \u001b[1;32mreturn\u001b[0m\u001b[1;33m\u001b[0m\u001b[1;33m\u001b[0m\u001b[0m\n\u001b[0;32m    856\u001b[0m \u001b[1;33m\u001b[0m\u001b[0m\n",
      "\u001b[1;31mKeyError\u001b[0m: '1990 (GDP'"
     ]
    }
   ],
   "source": [
    "gdp_df.to_sql(name='population', con=engine, if_exists='append', index=True)"
   ]
  },
  {
   "cell_type": "code",
   "execution_count": null,
   "metadata": {},
   "outputs": [],
   "source": []
  }
 ]
}