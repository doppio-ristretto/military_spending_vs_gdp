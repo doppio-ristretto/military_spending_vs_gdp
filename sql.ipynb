{
 "metadata": {
  "language_info": {
   "codemirror_mode": {
    "name": "ipython",
    "version": 3
   },
   "file_extension": ".py",
   "mimetype": "text/x-python",
   "name": "python",
   "nbconvert_exporter": "python",
   "pygments_lexer": "ipython3",
   "version": "3.7.6-final"
  },
  "orig_nbformat": 2,
  "kernelspec": {
   "name": "python3",
   "display_name": "Python 3"
  }
 },
 "nbformat": 4,
 "nbformat_minor": 2,
 "cells": [
  {
   "cell_type": "code",
   "execution_count": 1,
   "metadata": {},
   "outputs": [],
   "source": [
    "import pandas as pd\n",
    "from sqlalchemy import create_engine"
   ]
  },
  {
   "cell_type": "code",
   "execution_count": 11,
   "metadata": {},
   "outputs": [
    {
     "output_type": "execute_result",
     "data": {
      "text/plain": "          Country  1990_Population  1991_Population  1992_Population  \\\n0           Aruba          62149.0          64622.0          68235.0   \n1     Afghanistan       12412308.0       13299017.0       14485546.0   \n2          Angola       11848386.0       12248901.0       12657366.0   \n3         Albania        3286542.0        3266790.0        3247039.0   \n4         Andorra          54509.0          56671.0          58888.0   \n..            ...              ...              ...              ...   \n258        Kosovo        1862000.0        1898000.0        1932000.0   \n259   Yemen, Rep.       11709993.0       12302124.0       12954155.0   \n260  South Africa       36800509.0       37718950.0       38672607.0   \n261        Zambia        8036845.0        8246656.0        8451347.0   \n262      Zimbabwe       10432421.0       10680995.0       10900502.0   \n\n     1993_Population  1994_Population  1995_Population  1996_Population  \\\n0            72504.0          76700.0          80324.0          83200.0   \n1         15816603.0       17075727.0       18110657.0       18853437.0   \n2         13075049.0       13503747.0       13945206.0       14400719.0   \n3          3227287.0        3207536.0        3187784.0        3168033.0   \n4            60971.0          62677.0          63850.0          64360.0   \n..               ...              ...              ...              ...   \n258        1965000.0        1997000.0        2029000.0        2059000.0   \n259       13634076.0       14297613.0       14913315.0       15469274.0   \n260       39633750.0       40564059.0       41435758.0       42241011.0   \n261        8656486.0        8869740.0        9096607.0        9339733.0   \n262       11092766.0       11261744.0       11410714.0       11541217.0   \n\n     1997_Population  1998_Population  ...  2008_Population  2009_Population  \\\n0            85451.0          87277.0  ...         101358.0         101455.0   \n1         19357126.0       19737765.0  ...       27722276.0       28394813.0   \n2         14871570.0       15359601.0  ...       21695634.0       22514281.0   \n3          3148281.0        3128530.0  ...        2947314.0        2927519.0   \n4            64327.0          64142.0  ...          83862.0          84463.0   \n..               ...              ...  ...              ...              ...   \n258        2086000.0        1966000.0  ...        1747383.0        1761474.0   \n259       15975668.0       16450310.0  ...       21892146.0       22516460.0   \n260       42987461.0       43682260.0  ...       49779471.0       50477011.0   \n261        9597609.0        9866476.0  ...       12848530.0       13215139.0   \n262       11653242.0       11747072.0  ...       12379549.0       12526968.0   \n\n     2010_Population  2011_Population  2012_Population  2013_Population  \\\n0           101669.0         102046.0         102560.0         103159.0   \n1         29185507.0       30117413.0       31161376.0       32269589.0   \n2         23356246.0       24220661.0       25107931.0       26015780.0   \n3          2913021.0        2905195.0        2900401.0        2895092.0   \n4            84449.0          83747.0          82427.0          80774.0   \n..               ...              ...              ...              ...   \n258        1775680.0        1791000.0        1807106.0        1818117.0   \n259       23154855.0       23807588.0       24473178.0       25147109.0   \n260       51216964.0       52004172.0       52834005.0       53689236.0   \n261       13605984.0       14023193.0       14465121.0       14926504.0   \n262       12697723.0       12894316.0       13115131.0       13350356.0   \n\n     2014_Population  2015_Population  2016_Population  2017_Population  \n0           103774.0         104341.0         104872.0         105366.0  \n1         33370794.0       34413603.0       35383128.0       36296400.0  \n2         26941779.0       27884381.0       28842484.0       29816748.0  \n3          2889104.0        2880703.0        2876101.0        2873457.0  \n4            79213.0          78011.0          77297.0          77001.0  \n..               ...              ...              ...              ...  \n258        1812771.0        1788196.0        1777557.0        1791003.0  \n259       25823485.0       26497889.0       27168210.0       27834821.0  \n260       54545991.0       55386367.0       56203654.0       57000451.0  \n261       15399753.0       15879361.0       16363507.0       16853688.0  \n262       13586681.0       13814629.0       14030390.0       14236745.0  \n\n[263 rows x 29 columns]",
      "text/html": "<div>\n<style scoped>\n    .dataframe tbody tr th:only-of-type {\n        vertical-align: middle;\n    }\n\n    .dataframe tbody tr th {\n        vertical-align: top;\n    }\n\n    .dataframe thead th {\n        text-align: right;\n    }\n</style>\n<table border=\"1\" class=\"dataframe\">\n  <thead>\n    <tr style=\"text-align: right;\">\n      <th></th>\n      <th>Country</th>\n      <th>1990_Population</th>\n      <th>1991_Population</th>\n      <th>1992_Population</th>\n      <th>1993_Population</th>\n      <th>1994_Population</th>\n      <th>1995_Population</th>\n      <th>1996_Population</th>\n      <th>1997_Population</th>\n      <th>1998_Population</th>\n      <th>...</th>\n      <th>2008_Population</th>\n      <th>2009_Population</th>\n      <th>2010_Population</th>\n      <th>2011_Population</th>\n      <th>2012_Population</th>\n      <th>2013_Population</th>\n      <th>2014_Population</th>\n      <th>2015_Population</th>\n      <th>2016_Population</th>\n      <th>2017_Population</th>\n    </tr>\n  </thead>\n  <tbody>\n    <tr>\n      <th>0</th>\n      <td>Aruba</td>\n      <td>62149.0</td>\n      <td>64622.0</td>\n      <td>68235.0</td>\n      <td>72504.0</td>\n      <td>76700.0</td>\n      <td>80324.0</td>\n      <td>83200.0</td>\n      <td>85451.0</td>\n      <td>87277.0</td>\n      <td>...</td>\n      <td>101358.0</td>\n      <td>101455.0</td>\n      <td>101669.0</td>\n      <td>102046.0</td>\n      <td>102560.0</td>\n      <td>103159.0</td>\n      <td>103774.0</td>\n      <td>104341.0</td>\n      <td>104872.0</td>\n      <td>105366.0</td>\n    </tr>\n    <tr>\n      <th>1</th>\n      <td>Afghanistan</td>\n      <td>12412308.0</td>\n      <td>13299017.0</td>\n      <td>14485546.0</td>\n      <td>15816603.0</td>\n      <td>17075727.0</td>\n      <td>18110657.0</td>\n      <td>18853437.0</td>\n      <td>19357126.0</td>\n      <td>19737765.0</td>\n      <td>...</td>\n      <td>27722276.0</td>\n      <td>28394813.0</td>\n      <td>29185507.0</td>\n      <td>30117413.0</td>\n      <td>31161376.0</td>\n      <td>32269589.0</td>\n      <td>33370794.0</td>\n      <td>34413603.0</td>\n      <td>35383128.0</td>\n      <td>36296400.0</td>\n    </tr>\n    <tr>\n      <th>2</th>\n      <td>Angola</td>\n      <td>11848386.0</td>\n      <td>12248901.0</td>\n      <td>12657366.0</td>\n      <td>13075049.0</td>\n      <td>13503747.0</td>\n      <td>13945206.0</td>\n      <td>14400719.0</td>\n      <td>14871570.0</td>\n      <td>15359601.0</td>\n      <td>...</td>\n      <td>21695634.0</td>\n      <td>22514281.0</td>\n      <td>23356246.0</td>\n      <td>24220661.0</td>\n      <td>25107931.0</td>\n      <td>26015780.0</td>\n      <td>26941779.0</td>\n      <td>27884381.0</td>\n      <td>28842484.0</td>\n      <td>29816748.0</td>\n    </tr>\n    <tr>\n      <th>3</th>\n      <td>Albania</td>\n      <td>3286542.0</td>\n      <td>3266790.0</td>\n      <td>3247039.0</td>\n      <td>3227287.0</td>\n      <td>3207536.0</td>\n      <td>3187784.0</td>\n      <td>3168033.0</td>\n      <td>3148281.0</td>\n      <td>3128530.0</td>\n      <td>...</td>\n      <td>2947314.0</td>\n      <td>2927519.0</td>\n      <td>2913021.0</td>\n      <td>2905195.0</td>\n      <td>2900401.0</td>\n      <td>2895092.0</td>\n      <td>2889104.0</td>\n      <td>2880703.0</td>\n      <td>2876101.0</td>\n      <td>2873457.0</td>\n    </tr>\n    <tr>\n      <th>4</th>\n      <td>Andorra</td>\n      <td>54509.0</td>\n      <td>56671.0</td>\n      <td>58888.0</td>\n      <td>60971.0</td>\n      <td>62677.0</td>\n      <td>63850.0</td>\n      <td>64360.0</td>\n      <td>64327.0</td>\n      <td>64142.0</td>\n      <td>...</td>\n      <td>83862.0</td>\n      <td>84463.0</td>\n      <td>84449.0</td>\n      <td>83747.0</td>\n      <td>82427.0</td>\n      <td>80774.0</td>\n      <td>79213.0</td>\n      <td>78011.0</td>\n      <td>77297.0</td>\n      <td>77001.0</td>\n    </tr>\n    <tr>\n      <th>...</th>\n      <td>...</td>\n      <td>...</td>\n      <td>...</td>\n      <td>...</td>\n      <td>...</td>\n      <td>...</td>\n      <td>...</td>\n      <td>...</td>\n      <td>...</td>\n      <td>...</td>\n      <td>...</td>\n      <td>...</td>\n      <td>...</td>\n      <td>...</td>\n      <td>...</td>\n      <td>...</td>\n      <td>...</td>\n      <td>...</td>\n      <td>...</td>\n      <td>...</td>\n      <td>...</td>\n    </tr>\n    <tr>\n      <th>258</th>\n      <td>Kosovo</td>\n      <td>1862000.0</td>\n      <td>1898000.0</td>\n      <td>1932000.0</td>\n      <td>1965000.0</td>\n      <td>1997000.0</td>\n      <td>2029000.0</td>\n      <td>2059000.0</td>\n      <td>2086000.0</td>\n      <td>1966000.0</td>\n      <td>...</td>\n      <td>1747383.0</td>\n      <td>1761474.0</td>\n      <td>1775680.0</td>\n      <td>1791000.0</td>\n      <td>1807106.0</td>\n      <td>1818117.0</td>\n      <td>1812771.0</td>\n      <td>1788196.0</td>\n      <td>1777557.0</td>\n      <td>1791003.0</td>\n    </tr>\n    <tr>\n      <th>259</th>\n      <td>Yemen, Rep.</td>\n      <td>11709993.0</td>\n      <td>12302124.0</td>\n      <td>12954155.0</td>\n      <td>13634076.0</td>\n      <td>14297613.0</td>\n      <td>14913315.0</td>\n      <td>15469274.0</td>\n      <td>15975668.0</td>\n      <td>16450310.0</td>\n      <td>...</td>\n      <td>21892146.0</td>\n      <td>22516460.0</td>\n      <td>23154855.0</td>\n      <td>23807588.0</td>\n      <td>24473178.0</td>\n      <td>25147109.0</td>\n      <td>25823485.0</td>\n      <td>26497889.0</td>\n      <td>27168210.0</td>\n      <td>27834821.0</td>\n    </tr>\n    <tr>\n      <th>260</th>\n      <td>South Africa</td>\n      <td>36800509.0</td>\n      <td>37718950.0</td>\n      <td>38672607.0</td>\n      <td>39633750.0</td>\n      <td>40564059.0</td>\n      <td>41435758.0</td>\n      <td>42241011.0</td>\n      <td>42987461.0</td>\n      <td>43682260.0</td>\n      <td>...</td>\n      <td>49779471.0</td>\n      <td>50477011.0</td>\n      <td>51216964.0</td>\n      <td>52004172.0</td>\n      <td>52834005.0</td>\n      <td>53689236.0</td>\n      <td>54545991.0</td>\n      <td>55386367.0</td>\n      <td>56203654.0</td>\n      <td>57000451.0</td>\n    </tr>\n    <tr>\n      <th>261</th>\n      <td>Zambia</td>\n      <td>8036845.0</td>\n      <td>8246656.0</td>\n      <td>8451347.0</td>\n      <td>8656486.0</td>\n      <td>8869740.0</td>\n      <td>9096607.0</td>\n      <td>9339733.0</td>\n      <td>9597609.0</td>\n      <td>9866476.0</td>\n      <td>...</td>\n      <td>12848530.0</td>\n      <td>13215139.0</td>\n      <td>13605984.0</td>\n      <td>14023193.0</td>\n      <td>14465121.0</td>\n      <td>14926504.0</td>\n      <td>15399753.0</td>\n      <td>15879361.0</td>\n      <td>16363507.0</td>\n      <td>16853688.0</td>\n    </tr>\n    <tr>\n      <th>262</th>\n      <td>Zimbabwe</td>\n      <td>10432421.0</td>\n      <td>10680995.0</td>\n      <td>10900502.0</td>\n      <td>11092766.0</td>\n      <td>11261744.0</td>\n      <td>11410714.0</td>\n      <td>11541217.0</td>\n      <td>11653242.0</td>\n      <td>11747072.0</td>\n      <td>...</td>\n      <td>12379549.0</td>\n      <td>12526968.0</td>\n      <td>12697723.0</td>\n      <td>12894316.0</td>\n      <td>13115131.0</td>\n      <td>13350356.0</td>\n      <td>13586681.0</td>\n      <td>13814629.0</td>\n      <td>14030390.0</td>\n      <td>14236745.0</td>\n    </tr>\n  </tbody>\n</table>\n<p>263 rows × 29 columns</p>\n</div>"
     },
     "metadata": {},
     "execution_count": 11
    }
   ],
   "source": [
    "population = \"cleanpopulation.csv\"\n",
    "pop_df = pd.read_csv(population)\n",
    "pop_df"
   ]
  },
  {
   "cell_type": "code",
   "execution_count": 3,
   "metadata": {},
   "outputs": [
    {
     "output_type": "execute_result",
     "data": {
      "text/plain": "     Country      1990_GDP      1991_GDP      1992_GDP      1993_GDP  \\\n0  Australia  3.108380e+11  3.253580e+11  3.248780e+11  3.115290e+11   \n1    Austria  1.664630e+11  1.737940e+11  1.950780e+11  1.903800e+11   \n2    Burundi  1.132101e+09  1.167398e+09  1.083038e+09  9.386326e+08   \n3    Belgium  2.064310e+11  2.116380e+11  2.360380e+11  2.259250e+11   \n4      Benin  1.959965e+09  1.986438e+09  1.695315e+09  2.274558e+09   \n\n       1994_GDP      1995_GDP      1996_GDP      1997_GDP      1998_GDP  ...  \\\n0  3.222010e+11  3.672160e+11  4.003030e+11  4.345680e+11  3.988990e+11  ...   \n1  2.035350e+11  2.410380e+11  2.372510e+11  2.127900e+11  2.182600e+11  ...   \n2  9.250306e+08  1.000428e+09  8.690339e+08  9.728963e+08  8.937708e+08  ...   \n3  2.461950e+11  2.895670e+11  2.813580e+11  2.548140e+11  2.606020e+11  ...   \n4  1.598076e+09  2.169627e+09  2.361117e+09  2.268302e+09  2.455093e+09  ...   \n\n       2008_GDP      2009_GDP      2010_GDP      2011_GDP      2012_GDP  \\\n0  1.052580e+12  9.264480e+11  1.144260e+12  1.394280e+12  1.543410e+12   \n1  4.302940e+11  4.001720e+11  3.918930e+11  4.311200e+11  4.094250e+11   \n2  1.611836e+09  1.781455e+09  2.032135e+09  2.235821e+09  2.333308e+09   \n3  5.186260e+11  4.845530e+11  4.835480e+11  5.270080e+11  4.978840e+11   \n4  7.132787e+09  7.097199e+09  6.970241e+09  7.814081e+09  8.152554e+09   \n\n       2013_GDP      2014_GDP      2015_GDP      2016_GDP      2017_GDP  \n0  1.573700e+12  1.464960e+12  1.349030e+12  1.208040e+12  1.323420e+12  \n1  4.300690e+11  4.418850e+11  3.820660e+11  3.908000e+11  4.165960e+11  \n2  2.451625e+09  2.705783e+09  3.104395e+09  2.959185e+09  3.172416e+09  \n3  5.209250e+11  5.307710e+11  4.550400e+11  4.675460e+11  4.926810e+11  \n4  9.157356e+09  9.707432e+09  8.291156e+09  8.573160e+09  9.246697e+09  \n\n[5 rows x 29 columns]",
      "text/html": "<div>\n<style scoped>\n    .dataframe tbody tr th:only-of-type {\n        vertical-align: middle;\n    }\n\n    .dataframe tbody tr th {\n        vertical-align: top;\n    }\n\n    .dataframe thead th {\n        text-align: right;\n    }\n</style>\n<table border=\"1\" class=\"dataframe\">\n  <thead>\n    <tr style=\"text-align: right;\">\n      <th></th>\n      <th>Country</th>\n      <th>1990_GDP</th>\n      <th>1991_GDP</th>\n      <th>1992_GDP</th>\n      <th>1993_GDP</th>\n      <th>1994_GDP</th>\n      <th>1995_GDP</th>\n      <th>1996_GDP</th>\n      <th>1997_GDP</th>\n      <th>1998_GDP</th>\n      <th>...</th>\n      <th>2008_GDP</th>\n      <th>2009_GDP</th>\n      <th>2010_GDP</th>\n      <th>2011_GDP</th>\n      <th>2012_GDP</th>\n      <th>2013_GDP</th>\n      <th>2014_GDP</th>\n      <th>2015_GDP</th>\n      <th>2016_GDP</th>\n      <th>2017_GDP</th>\n    </tr>\n  </thead>\n  <tbody>\n    <tr>\n      <th>0</th>\n      <td>Australia</td>\n      <td>3.108380e+11</td>\n      <td>3.253580e+11</td>\n      <td>3.248780e+11</td>\n      <td>3.115290e+11</td>\n      <td>3.222010e+11</td>\n      <td>3.672160e+11</td>\n      <td>4.003030e+11</td>\n      <td>4.345680e+11</td>\n      <td>3.988990e+11</td>\n      <td>...</td>\n      <td>1.052580e+12</td>\n      <td>9.264480e+11</td>\n      <td>1.144260e+12</td>\n      <td>1.394280e+12</td>\n      <td>1.543410e+12</td>\n      <td>1.573700e+12</td>\n      <td>1.464960e+12</td>\n      <td>1.349030e+12</td>\n      <td>1.208040e+12</td>\n      <td>1.323420e+12</td>\n    </tr>\n    <tr>\n      <th>1</th>\n      <td>Austria</td>\n      <td>1.664630e+11</td>\n      <td>1.737940e+11</td>\n      <td>1.950780e+11</td>\n      <td>1.903800e+11</td>\n      <td>2.035350e+11</td>\n      <td>2.410380e+11</td>\n      <td>2.372510e+11</td>\n      <td>2.127900e+11</td>\n      <td>2.182600e+11</td>\n      <td>...</td>\n      <td>4.302940e+11</td>\n      <td>4.001720e+11</td>\n      <td>3.918930e+11</td>\n      <td>4.311200e+11</td>\n      <td>4.094250e+11</td>\n      <td>4.300690e+11</td>\n      <td>4.418850e+11</td>\n      <td>3.820660e+11</td>\n      <td>3.908000e+11</td>\n      <td>4.165960e+11</td>\n    </tr>\n    <tr>\n      <th>2</th>\n      <td>Burundi</td>\n      <td>1.132101e+09</td>\n      <td>1.167398e+09</td>\n      <td>1.083038e+09</td>\n      <td>9.386326e+08</td>\n      <td>9.250306e+08</td>\n      <td>1.000428e+09</td>\n      <td>8.690339e+08</td>\n      <td>9.728963e+08</td>\n      <td>8.937708e+08</td>\n      <td>...</td>\n      <td>1.611836e+09</td>\n      <td>1.781455e+09</td>\n      <td>2.032135e+09</td>\n      <td>2.235821e+09</td>\n      <td>2.333308e+09</td>\n      <td>2.451625e+09</td>\n      <td>2.705783e+09</td>\n      <td>3.104395e+09</td>\n      <td>2.959185e+09</td>\n      <td>3.172416e+09</td>\n    </tr>\n    <tr>\n      <th>3</th>\n      <td>Belgium</td>\n      <td>2.064310e+11</td>\n      <td>2.116380e+11</td>\n      <td>2.360380e+11</td>\n      <td>2.259250e+11</td>\n      <td>2.461950e+11</td>\n      <td>2.895670e+11</td>\n      <td>2.813580e+11</td>\n      <td>2.548140e+11</td>\n      <td>2.606020e+11</td>\n      <td>...</td>\n      <td>5.186260e+11</td>\n      <td>4.845530e+11</td>\n      <td>4.835480e+11</td>\n      <td>5.270080e+11</td>\n      <td>4.978840e+11</td>\n      <td>5.209250e+11</td>\n      <td>5.307710e+11</td>\n      <td>4.550400e+11</td>\n      <td>4.675460e+11</td>\n      <td>4.926810e+11</td>\n    </tr>\n    <tr>\n      <th>4</th>\n      <td>Benin</td>\n      <td>1.959965e+09</td>\n      <td>1.986438e+09</td>\n      <td>1.695315e+09</td>\n      <td>2.274558e+09</td>\n      <td>1.598076e+09</td>\n      <td>2.169627e+09</td>\n      <td>2.361117e+09</td>\n      <td>2.268302e+09</td>\n      <td>2.455093e+09</td>\n      <td>...</td>\n      <td>7.132787e+09</td>\n      <td>7.097199e+09</td>\n      <td>6.970241e+09</td>\n      <td>7.814081e+09</td>\n      <td>8.152554e+09</td>\n      <td>9.157356e+09</td>\n      <td>9.707432e+09</td>\n      <td>8.291156e+09</td>\n      <td>8.573160e+09</td>\n      <td>9.246697e+09</td>\n    </tr>\n  </tbody>\n</table>\n<p>5 rows × 29 columns</p>\n</div>"
     },
     "metadata": {},
     "execution_count": 3
    }
   ],
   "source": [
    "gdp = \"clean_gdp_file.csv\"\n",
    "gdp_df = pd.read_csv(gdp)\n",
    "gdp_df.head()"
   ]
  },
  {
   "cell_type": "code",
   "execution_count": 4,
   "metadata": {},
   "outputs": [
    {
     "output_type": "execute_result",
     "data": {
      "text/plain": "       Country    1990_Spend    1991_Spend    1992_Spend    1993_Spend  \\\n0        Aruba           NaN           NaN           NaN           NaN   \n1  Afghanistan           NaN           NaN           NaN           NaN   \n2       Angola  1.751153e+09  1.031248e+09  7.941388e+08  1.774398e+09   \n3      Albania           NaN           NaN  3.155966e+07  3.928984e+07   \n4      Andorra           NaN           NaN           NaN           NaN   \n\n     1994_Spend    1995_Spend    1996_Spend   1997_Spend    1998_Spend  ...  \\\n0           NaN           NaN           NaN          NaN           NaN  ...   \n1           NaN           NaN           NaN          NaN           NaN  ...   \n2  5.949912e+08  2.338437e+08  1.597419e+08  456780475.0  1.702783e+08  ...   \n3  4.964950e+07  5.090752e+07  4.571336e+07   29825492.0  3.363805e+07  ...   \n4           NaN           NaN           NaN          NaN           NaN  ...   \n\n     2008_Spend    2009_Spend    2010_Spend    2011_Spend    2012_Spend  \\\n0           NaN           NaN           NaN           NaN           NaN   \n1  2.405326e+08  2.518695e+08  2.981469e+08  3.258070e+08  2.385834e+08   \n2  3.163591e+09  3.311193e+09  3.500795e+09  3.639496e+09  4.144635e+09   \n3  2.556780e+08  1.827369e+08  1.858932e+08  1.970068e+08  1.832047e+08   \n4           NaN           NaN           NaN           NaN           NaN   \n\n     2013_Spend    2014_Spend    2015_Spend    2016_Spend    2017_Spend  \n0           NaN           NaN           NaN           NaN           NaN  \n1  2.171941e+08  2.682271e+08  1.995186e+08  1.858783e+08  1.914071e+08  \n2  6.090752e+09  6.841864e+09  3.608299e+09  2.764055e+09  3.062873e+09  \n3  1.800155e+08  1.781204e+08  1.323507e+08  1.308532e+08  1.443827e+08  \n4           NaN           NaN           NaN           NaN           NaN  \n\n[5 rows x 29 columns]",
      "text/html": "<div>\n<style scoped>\n    .dataframe tbody tr th:only-of-type {\n        vertical-align: middle;\n    }\n\n    .dataframe tbody tr th {\n        vertical-align: top;\n    }\n\n    .dataframe thead th {\n        text-align: right;\n    }\n</style>\n<table border=\"1\" class=\"dataframe\">\n  <thead>\n    <tr style=\"text-align: right;\">\n      <th></th>\n      <th>Country</th>\n      <th>1990_Spend</th>\n      <th>1991_Spend</th>\n      <th>1992_Spend</th>\n      <th>1993_Spend</th>\n      <th>1994_Spend</th>\n      <th>1995_Spend</th>\n      <th>1996_Spend</th>\n      <th>1997_Spend</th>\n      <th>1998_Spend</th>\n      <th>...</th>\n      <th>2008_Spend</th>\n      <th>2009_Spend</th>\n      <th>2010_Spend</th>\n      <th>2011_Spend</th>\n      <th>2012_Spend</th>\n      <th>2013_Spend</th>\n      <th>2014_Spend</th>\n      <th>2015_Spend</th>\n      <th>2016_Spend</th>\n      <th>2017_Spend</th>\n    </tr>\n  </thead>\n  <tbody>\n    <tr>\n      <th>0</th>\n      <td>Aruba</td>\n      <td>NaN</td>\n      <td>NaN</td>\n      <td>NaN</td>\n      <td>NaN</td>\n      <td>NaN</td>\n      <td>NaN</td>\n      <td>NaN</td>\n      <td>NaN</td>\n      <td>NaN</td>\n      <td>...</td>\n      <td>NaN</td>\n      <td>NaN</td>\n      <td>NaN</td>\n      <td>NaN</td>\n      <td>NaN</td>\n      <td>NaN</td>\n      <td>NaN</td>\n      <td>NaN</td>\n      <td>NaN</td>\n      <td>NaN</td>\n    </tr>\n    <tr>\n      <th>1</th>\n      <td>Afghanistan</td>\n      <td>NaN</td>\n      <td>NaN</td>\n      <td>NaN</td>\n      <td>NaN</td>\n      <td>NaN</td>\n      <td>NaN</td>\n      <td>NaN</td>\n      <td>NaN</td>\n      <td>NaN</td>\n      <td>...</td>\n      <td>2.405326e+08</td>\n      <td>2.518695e+08</td>\n      <td>2.981469e+08</td>\n      <td>3.258070e+08</td>\n      <td>2.385834e+08</td>\n      <td>2.171941e+08</td>\n      <td>2.682271e+08</td>\n      <td>1.995186e+08</td>\n      <td>1.858783e+08</td>\n      <td>1.914071e+08</td>\n    </tr>\n    <tr>\n      <th>2</th>\n      <td>Angola</td>\n      <td>1.751153e+09</td>\n      <td>1.031248e+09</td>\n      <td>7.941388e+08</td>\n      <td>1.774398e+09</td>\n      <td>5.949912e+08</td>\n      <td>2.338437e+08</td>\n      <td>1.597419e+08</td>\n      <td>456780475.0</td>\n      <td>1.702783e+08</td>\n      <td>...</td>\n      <td>3.163591e+09</td>\n      <td>3.311193e+09</td>\n      <td>3.500795e+09</td>\n      <td>3.639496e+09</td>\n      <td>4.144635e+09</td>\n      <td>6.090752e+09</td>\n      <td>6.841864e+09</td>\n      <td>3.608299e+09</td>\n      <td>2.764055e+09</td>\n      <td>3.062873e+09</td>\n    </tr>\n    <tr>\n      <th>3</th>\n      <td>Albania</td>\n      <td>NaN</td>\n      <td>NaN</td>\n      <td>3.155966e+07</td>\n      <td>3.928984e+07</td>\n      <td>4.964950e+07</td>\n      <td>5.090752e+07</td>\n      <td>4.571336e+07</td>\n      <td>29825492.0</td>\n      <td>3.363805e+07</td>\n      <td>...</td>\n      <td>2.556780e+08</td>\n      <td>1.827369e+08</td>\n      <td>1.858932e+08</td>\n      <td>1.970068e+08</td>\n      <td>1.832047e+08</td>\n      <td>1.800155e+08</td>\n      <td>1.781204e+08</td>\n      <td>1.323507e+08</td>\n      <td>1.308532e+08</td>\n      <td>1.443827e+08</td>\n    </tr>\n    <tr>\n      <th>4</th>\n      <td>Andorra</td>\n      <td>NaN</td>\n      <td>NaN</td>\n      <td>NaN</td>\n      <td>NaN</td>\n      <td>NaN</td>\n      <td>NaN</td>\n      <td>NaN</td>\n      <td>NaN</td>\n      <td>NaN</td>\n      <td>...</td>\n      <td>NaN</td>\n      <td>NaN</td>\n      <td>NaN</td>\n      <td>NaN</td>\n      <td>NaN</td>\n      <td>NaN</td>\n      <td>NaN</td>\n      <td>NaN</td>\n      <td>NaN</td>\n      <td>NaN</td>\n    </tr>\n  </tbody>\n</table>\n<p>5 rows × 29 columns</p>\n</div>"
     },
     "metadata": {},
     "execution_count": 4
    }
   ],
   "source": [
    "spending = \"cleanspending.csv\"\n",
    "spending_df = pd.read_csv(spending)\n",
    "spending_df.head()"
   ]
  },
  {
   "cell_type": "code",
   "execution_count": 5,
   "metadata": {},
   "outputs": [],
   "source": [
    "connection_string = \"postgres:Charlie109:)@localhost:5432/military_spending\"\n",
    "engine = create_engine(f'postgresql://{connection_string}')"
   ]
  },
  {
   "cell_type": "code",
   "execution_count": null,
   "metadata": {},
   "outputs": [],
   "source": []
  },
  {
   "cell_type": "code",
   "execution_count": null,
   "metadata": {},
   "outputs": [],
   "source": []
  },
  {
   "cell_type": "code",
   "execution_count": null,
   "metadata": {},
   "outputs": [],
   "source": []
  },
  {
   "cell_type": "code",
   "execution_count": null,
   "metadata": {},
   "outputs": [],
   "source": []
  },
  {
   "cell_type": "code",
   "execution_count": null,
   "metadata": {},
   "outputs": [],
   "source": []
  },
  {
   "cell_type": "code",
   "execution_count": null,
   "metadata": {},
   "outputs": [],
   "source": []
  },
  {
   "cell_type": "code",
   "execution_count": null,
   "metadata": {},
   "outputs": [],
   "source": []
  },
  {
   "cell_type": "code",
   "execution_count": null,
   "metadata": {},
   "outputs": [],
   "source": []
  },
  {
   "cell_type": "code",
   "execution_count": null,
   "metadata": {},
   "outputs": [],
   "source": []
  },
  {
   "cell_type": "code",
   "execution_count": null,
   "metadata": {},
   "outputs": [],
   "source": []
  },
  {
   "cell_type": "code",
   "execution_count": 6,
   "metadata": {},
   "outputs": [
    {
     "output_type": "execute_result",
     "data": {
      "text/plain": "['gdp', 'spending', 'population']"
     },
     "metadata": {},
     "execution_count": 6
    }
   ],
   "source": [
    "engine.table_names() "
   ]
  },
  {
   "cell_type": "code",
   "execution_count": 7,
   "metadata": {},
   "outputs": [],
   "source": [
    "#gdp_df.to_sql(name='gdp', con=engine, if_exists='append', index=False)"
   ]
  },
  {
   "cell_type": "code",
   "execution_count": 8,
   "metadata": {},
   "outputs": [],
   "source": [
    "#spending_df.to_sql(name='spending', con=engine, if_exists='append', index=False)"
   ]
  },
  {
   "cell_type": "code",
   "execution_count": 12,
   "metadata": {
    "tags": []
   },
   "outputs": [],
   "source": [
    "#pop_df.to_sql(name='population', con=engine, if_exists='append', index=False)"
   ]
  },
  {
   "cell_type": "code",
   "execution_count": 10,
   "metadata": {},
   "outputs": [
    {
     "output_type": "error",
     "ename": "SyntaxError",
     "evalue": "invalid syntax (<ipython-input-10-35c304bdb41e>, line 1)",
     "traceback": [
      "\u001b[1;36m  File \u001b[1;32m\"<ipython-input-10-35c304bdb41e>\"\u001b[1;36m, line \u001b[1;32m1\u001b[0m\n\u001b[1;33m    CREATE TABLE population (\u001b[0m\n\u001b[1;37m               ^\u001b[0m\n\u001b[1;31mSyntaxError\u001b[0m\u001b[1;31m:\u001b[0m invalid syntax\n"
     ]
    }
   ],
   "source": []
  }
 ]
}